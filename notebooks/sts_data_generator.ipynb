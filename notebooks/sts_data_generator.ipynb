{
 "cells": [
  {
   "cell_type": "code",
   "execution_count": 1,
   "metadata": {},
   "outputs": [],
   "source": [
    "import pandas as pd\n",
    "import re\n",
    "import itertools\n",
    "import numpy as np\n",
    "import random\n",
    "from sklearn.model_selection import train_test_split\n",
    "\n",
    "%matplotlib inline\n",
    "\n",
    "random.seed(0)\n",
    "np.random.seed(0)\n",
    "\n",
    "mu, sigma = 0, 0.1 "
   ]
  },
  {
   "cell_type": "markdown",
   "metadata": {},
   "source": [
    "# Análise dos dados de precedentes do STJ"
   ]
  },
  {
   "cell_type": "markdown",
   "metadata": {},
   "source": [
    "Levando em consideração que cada jurisprudência do conjunto de dados terá no mínimo 5 precedentes, utilizando a fórmula de combinação 𝐶(𝑛,𝑟)=𝑛!/(𝑟!(𝑛−𝑟)!), onde n=10 e r=2, temos que para cada jurisprudência podemos gerar no mínimo 10 pares de precedentes sem repetição."
   ]
  },
  {
   "cell_type": "code",
   "execution_count": 2,
   "metadata": {},
   "outputs": [],
   "source": [
    "stj = pd.read_csv('../datasets/jurisprudencias_stj_final.csv')"
   ]
  },
  {
   "cell_type": "code",
   "execution_count": 3,
   "metadata": {
    "tags": []
   },
   "outputs": [
    {
     "name": "stdout",
     "output_type": "stream",
     "text": [
      "Total de pares de precedentes da mesma Jurisprudência gerados:  18217\n"
     ]
    }
   ],
   "source": [
    "stj_sts_data = []\n",
    "for group_name, tema_group in stj.groupby('TEMA'):\n",
    "    pares = list(set(itertools.combinations(tema_group.EMENTA, 2)))\n",
    "    noise = np.random.normal(mu, sigma, len(pares))\n",
    "    scores = [4.5]*len(pares)+noise\n",
    "    for i, par in enumerate(pares):\n",
    "        stj_sts_data.append([par[0], par[1], scores[i], 4])\n",
    "\n",
    "precedentes_mesma_jurisprudencia = len(stj_sts_data)\n",
    "print('Total de pares de precedentes da mesma Jurisprudência gerados: ', precedentes_mesma_jurisprudencia)\n"
   ]
  },
  {
   "cell_type": "markdown",
   "metadata": {},
   "source": [
    "Agora preciso gerar também pares de precedentes que não são similares. Para isso posso usar a informação da Matéria de cada precedente, e gerar pares entre Matérias diferentes, o que garante que a similaridade entre os precedentes seja praticamente nula. Como os pares não similares gerados por essa abordagem será maior que a quantidade de pares da mesma jurisprudência gerados pelo passo anterior, uso a relação da quantidade de pares precedentes da mesma jurisprudência, e os pares de Matérias diferentes para manter um conjunto de dados balanceado."
   ]
  },
  {
   "cell_type": "code",
   "execution_count": 4,
   "metadata": {
    "tags": []
   },
   "outputs": [
    {
     "name": "stdout",
     "output_type": "stream",
     "text": [
      "Total de pares de diferentes Matérias:  21\n",
      "Total de pares a serem usados a partir de cada par de Matéria:  867\n",
      "Total de pares até o momento:  36424\n"
     ]
    }
   ],
   "source": [
    "#gero pares de matérias diferentes\n",
    "pares_materias = list(set(itertools.combinations(stj.MATERIA.unique().tolist(), 2)))\n",
    "print('Total de pares de diferentes Matérias: ' , len(pares_materias))\n",
    "total_por_par_materias = int(precedentes_mesma_jurisprudencia/len(pares_materias))\n",
    "print('Total de pares a serem usados a partir de cada par de Matéria: ', total_por_par_materias)\n",
    "for materias_par in list(set(itertools.combinations(stj.MATERIA.unique().tolist(), 2))):\n",
    "    #recupero as ementas das duas diferentes matérias\n",
    "    precedentes_materias = [stj[stj.MATERIA == materia].EMENTA.tolist() for materia in materias_par]\n",
    "    # gero um produto cartesiano entre as ementas das diferentes matérias\n",
    "    pares = list(itertools.product(*precedentes_materias))[:total_por_par_materias]\n",
    "    noise = np.random.normal(mu, sigma, len(pares))\n",
    "    scores = [0.5]*len(pares)+noise\n",
    "    for i, par in enumerate(pares):\n",
    "        stj_sts_data.append([par[0], par[1], scores[i], 0])\n",
    "print('Total de pares até o momento: ', len(stj_sts_data))"
   ]
  },
  {
   "cell_type": "code",
   "execution_count": 5,
   "metadata": {
    "tags": []
   },
   "outputs": [],
   "source": [
    "pares_natureza = []\n",
    "for group_name, natureza_group in stj.groupby('NATUREZA'):\n",
    "    for temas_pares in list(set(itertools.combinations(natureza_group.TEMA.unique(), 2))):\n",
    "        precedentes_temas = [natureza_group[natureza_group.TEMA == tema].EMENTA.tolist() \n",
    "                                for tema in temas_pares]\n",
    "        pares = list(itertools.product(*precedentes_temas))\n",
    "        noise = np.random.normal(mu, sigma, len(pares))\n",
    "        scores = [3]*len(pares)+noise\n",
    "        for i, par in enumerate(pares):\n",
    "            pares_natureza.append([par[0], par[1], scores[i], 3])"
   ]
  },
  {
   "cell_type": "code",
   "execution_count": 6,
   "metadata": {},
   "outputs": [
    {
     "name": "stdout",
     "output_type": "stream",
     "text": [
      "Total de pares até o momento 54641\n"
     ]
    }
   ],
   "source": [
    "samples_pares_natureza = random.sample(pares_natureza, min(precedentes_mesma_jurisprudencia, len(pares_natureza)))\n",
    "stj_sts_data = stj_sts_data + samples_pares_natureza\n",
    "print('Total de pares até o momento', len(stj_sts_data))"
   ]
  },
  {
   "cell_type": "code",
   "execution_count": 7,
   "metadata": {},
   "outputs": [],
   "source": [
    "stj_sts_df = pd.DataFrame(stj_sts_data, columns=['sentence_A','sentence_B','score','range'])\n",
    "stj_sts_df = stj_sts_df.dropna()"
   ]
  },
  {
   "cell_type": "code",
   "execution_count": 8,
   "metadata": {},
   "outputs": [],
   "source": [
    "train, test = train_test_split(stj_sts_df, \n",
    "                            test_size=0.3, \n",
    "                            stratify=stj_sts_df.range,\n",
    "                            shuffle=True,\n",
    "                            random_state=42)\n",
    "test, valid = train_test_split(test, \n",
    "                            test_size=0.3, \n",
    "                            stratify=test.range,\n",
    "                            shuffle=True,\n",
    "                            random_state=42)"
   ]
  },
  {
   "cell_type": "code",
   "execution_count": 9,
   "metadata": {},
   "outputs": [],
   "source": [
    "stj_sts_df.loc[train.index.values,'SPLIT'] = 'TRAIN'\n",
    "stj_sts_df.loc[test.index.values,'SPLIT'] = 'TEST'\n",
    "stj_sts_df.loc[valid.index.values,'SPLIT'] = 'VALID'"
   ]
  },
  {
   "cell_type": "code",
   "execution_count": 10,
   "metadata": {},
   "outputs": [
    {
     "name": "stdout",
     "output_type": "stream",
     "text": [
      "                                              sentence_A  \\\n",
      "0      ADMINISTRATIVO. RECURSO ORDINÁRIO EM MANDADO D...   \n",
      "1      ADMINISTRATIVO. AGRAVO REGIMENTAL. RECURSO ORD...   \n",
      "2      ADMINISTRATIVO. RECURSO ORDINÁRIO EM MANDADO D...   \n",
      "3      ADMINISTRATIVO. AGRAVO REGIMENTAL. RECURSO ORD...   \n",
      "4      ADMINISTRATIVO E PROCESSUAL CIVIL. SEGUNDOS EM...   \n",
      "...                                                  ...   \n",
      "54636  AGRAVO INTERNO NO RECURSO ESPECIAL. DIREITO CI...   \n",
      "54637  AGRAVO INTERNO NO AGRAVO EM RECURSO ESPECIAL. ...   \n",
      "54638           Data da Publicação/Fonte\\nDJe 05/05/2011   \n",
      "54639  CIVIL E PROCESSUAL CIVIL. AGRAVO REGIMENTAL. A...   \n",
      "54640  Direito civil. Previdência privada. Benefícios...   \n",
      "\n",
      "                                              sentence_B     score  range  \\\n",
      "0      ADMINISTRATIVO. RECURSO ORDINÁRIO EM MANDADO D...  4.676405      4   \n",
      "1      ADMINISTRATIVO E PROCESSUAL CIVIL. SEGUNDOS EM...  4.540016      4   \n",
      "2      ADMINISTRATIVO E PROCESSUAL CIVIL. SEGUNDOS EM...  4.597874      4   \n",
      "3      ADMINISTRATIVO. RECURSO ORDINÁRIO EM MANDADO D...  4.724089      4   \n",
      "4      ADMINISTRATIVO. RECURSO ORDINÁRIO EM MANDADO D...  4.686756      4   \n",
      "...                                                  ...       ...    ...   \n",
      "54636  PROCESSUAL CIVIL. AGRAVO REGIMENTAL NO RECURSO...  3.138156      3   \n",
      "54637  EMBARGOS DE DECLARAÇÃO. OMISSÃO. OBSCURIDADE. ...  3.049909      3   \n",
      "54638  ADMINISTRATIVO.  RECURSO  ESPECIAL  REPRESENTA...  3.099351      3   \n",
      "54639  AGRAVO REGIMENTAL NO AGRAVO EM RECURSO ESPECIA...  2.934198      3   \n",
      "54640  HABEAS CORPUS SUBSTITUTO DE RECURSO ORDINÁRIO....  2.851012      3   \n",
      "\n",
      "       SPLIT  \n",
      "0      TRAIN  \n",
      "1       TEST  \n",
      "2      TRAIN  \n",
      "3       TEST  \n",
      "4      TRAIN  \n",
      "...      ...  \n",
      "54636  TRAIN  \n",
      "54637  TRAIN  \n",
      "54638  TRAIN  \n",
      "54639  TRAIN  \n",
      "54640  VALID  \n",
      "\n",
      "[54641 rows x 5 columns]\n"
     ]
    }
   ],
   "source": [
    "print(stj_sts_df)\n",
    "stj_sts_df.to_csv('../datasets/stj_sts.csv', index=False)"
   ]
  },
  {
   "cell_type": "markdown",
   "metadata": {},
   "source": [
    "# Análise de dados dos precedentes do TCU"
   ]
  },
  {
   "cell_type": "code",
   "execution_count": 11,
   "metadata": {},
   "outputs": [],
   "source": [
    "tcu = pd.read_csv('../datasets/jurisprudencias_tcu_final.csv')"
   ]
  },
  {
   "cell_type": "markdown",
   "metadata": {},
   "source": [
    "Gero pares de uma mesma Jurisprudência"
   ]
  },
  {
   "cell_type": "code",
   "execution_count": 12,
   "metadata": {},
   "outputs": [
    {
     "name": "stdout",
     "output_type": "stream",
     "text": [
      "Total de pares de precedentes da mesma Jurisprudência gerados:  1717\n"
     ]
    }
   ],
   "source": [
    "tcu_sts_data = []\n",
    "for group_name, jurisprudencia_group in tcu.groupby('ENUNCIADO'):\n",
    "    pares = list(set(itertools.combinations(jurisprudencia_group.VOTO, 2)))\n",
    "    noise = np.random.normal(mu, sigma, len(pares))\n",
    "    scores = [4.5]*len(pares)+noise\n",
    "    for i, par in enumerate(pares):\n",
    "        tcu_sts_data.append([par[0], par[1], scores[i], 4])\n",
    "\n",
    "precedentes_mesma_jurisprudencia = len(tcu_sts_data)\n",
    "print('Total de pares de precedentes da mesma Jurisprudência gerados: ', precedentes_mesma_jurisprudencia)"
   ]
  },
  {
   "cell_type": "markdown",
   "metadata": {},
   "source": [
    "Gero pares de Áreas diferentes, então a similaridade é praticamente nula"
   ]
  },
  {
   "cell_type": "code",
   "execution_count": 13,
   "metadata": {},
   "outputs": [
    {
     "name": "stdout",
     "output_type": "stream",
     "text": [
      "Total de pares de diferentes Áreas:  6\n",
      "Total de pares a serem usados a partir de cada par de Matéria:  286\n",
      "Total de pares até o momento:  3433\n"
     ]
    }
   ],
   "source": [
    "pares_areas = list(set(itertools.combinations(tcu.AREA.unique().tolist(), 2)))\n",
    "print('Total de pares de diferentes Áreas: ' , len(pares_areas))\n",
    "total_por_par_areas = int(precedentes_mesma_jurisprudencia/len(pares_areas))\n",
    "print('Total de pares a serem usados a partir de cada par de Matéria: ', total_por_par_areas)\n",
    "for areas_par in list(set(itertools.combinations(tcu.AREA.unique().tolist(), 2))):\n",
    "    #recupero os votos das duas diferentes áreas\n",
    "    precedentes_areas = [tcu[tcu.AREA == area].VOTO.tolist() for area in areas_par]\n",
    "    # gero um produto cartesiano entre os votos das diferentes áreas\n",
    "    pares = list(itertools.product(*precedentes_areas))[:total_por_par_areas]\n",
    "    noise = np.random.normal(mu, sigma, len(pares))\n",
    "    scores = [0.5]*len(pares)+noise\n",
    "    for i, par in enumerate(pares):\n",
    "        tcu_sts_data.append([par[0], par[1], scores[i], 0])\n",
    "print('Total de pares até o momento: ', len(tcu_sts_data))"
   ]
  },
  {
   "cell_type": "code",
   "execution_count": 14,
   "metadata": {
    "tags": []
   },
   "outputs": [],
   "source": [
    "pares_temas = []\n",
    "for group_name, area_group in tcu.groupby('AREA'):\n",
    "    for tema_name, tema_group in area_group.groupby('TEMA'):\n",
    "        #Se pra um TEMA tenho mais que um subtema então a similaridade entre subtemas não é tão grande\n",
    "        if len(tema_group.SUBTEMA.unique()) > 1:\n",
    "            for subtemas_pares in list(set(itertools.combinations(tema_group.SUBTEMA.unique(), 2))):\n",
    "                precedentes_subtemas = [tema_group[tema_group.SUBTEMA == subtema].VOTO.tolist() \n",
    "                                        for subtema in subtemas_pares]\n",
    "                pares = list(itertools.product(*precedentes_subtemas))\n",
    "                noise = np.random.normal(mu, sigma, len(pares))\n",
    "                scores = [3]*len(pares)+noise\n",
    "                for i, par in enumerate(pares):\n",
    "                    pares_temas.append([par[0], par[1], scores[i], 3])\n"
   ]
  },
  {
   "cell_type": "code",
   "execution_count": 15,
   "metadata": {
    "tags": []
   },
   "outputs": [
    {
     "name": "stdout",
     "output_type": "stream",
     "text": [
      "Total de pares até o momento 5030\n"
     ]
    }
   ],
   "source": [
    "samples_pares_temas = random.sample(pares_temas, min(precedentes_mesma_jurisprudencia, len(pares_temas)))\n",
    "\n",
    "tcu_sts_data = tcu_sts_data + samples_pares_temas\n",
    "print('Total de pares até o momento', len(tcu_sts_data))"
   ]
  },
  {
   "cell_type": "code",
   "execution_count": 16,
   "metadata": {},
   "outputs": [],
   "source": [
    "tcu_sts_df = pd.DataFrame(tcu_sts_data, columns=['sentence_A','sentence_B','score','range'])\n",
    "tcu_sts_df = tcu_sts_df.dropna()"
   ]
  },
  {
   "cell_type": "code",
   "execution_count": 17,
   "metadata": {},
   "outputs": [],
   "source": [
    "train, test = train_test_split(tcu_sts_df, \n",
    "                            test_size=0.3, \n",
    "                            stratify=tcu_sts_df.range,\n",
    "                            shuffle=True,\n",
    "                            random_state=42)\n",
    "test, valid = train_test_split(test, \n",
    "                            test_size=0.3, \n",
    "                            stratify=test.range,\n",
    "                            shuffle=True,\n",
    "                            random_state=42)"
   ]
  },
  {
   "cell_type": "code",
   "execution_count": 18,
   "metadata": {},
   "outputs": [],
   "source": [
    "tcu_sts_df.loc[train.index.values,'SPLIT'] = 'TRAIN'\n",
    "tcu_sts_df.loc[test.index.values,'SPLIT'] = 'TEST'\n",
    "tcu_sts_df.loc[valid.index.values,'SPLIT'] = 'VALID'"
   ]
  },
  {
   "cell_type": "code",
   "execution_count": 19,
   "metadata": {},
   "outputs": [
    {
     "name": "stdout",
     "output_type": "stream",
     "text": [
      "                                             sentence_A  \\\n",
      "0      \\n                      TRIBUNAL DE CONTAS DA...   \n",
      "1      \\n                      TRIBUNAL DE CONTAS DA...   \n",
      "2      \\n                      TRIBUNAL DE CONTAS DA...   \n",
      "3      \\n                      TRIBUNAL DE CONTAS DA...   \n",
      "4      \\n                      TRIBUNAL DE CONTAS DA...   \n",
      "...                                                 ...   \n",
      "5025  Versam estes autos acerca de relatório de audi...   \n",
      "5026  Trata-se de atos de concessão de aposentadoria...   \n",
      "5027  Trata-se de processo apartado de representação...   \n",
      "5028   \\n                      TRIBUNAL DE CONTAS DA...   \n",
      "5029  Adoto como relatório, com os ajustes pertinent...   \n",
      "\n",
      "                                             sentence_B     score  range  \\\n",
      "0      \\n                      TRIBUNAL DE CONTAS DA...  4.574556      4   \n",
      "1     Para verificar as assinaturas, acesse www.tcu....  4.541598      4   \n",
      "2      \\n                      TRIBUNAL DE CONTAS DA...  4.466790      4   \n",
      "3      \\n                      TRIBUNAL DE CONTAS DA...  4.377445      4   \n",
      "4      \\n                      TRIBUNAL DE CONTAS DA...  4.592727      4   \n",
      "...                                                 ...       ...    ...   \n",
      "5025  Cuidam os autos do relatório da auditoria real...  2.977081      3   \n",
      "5026  Examina-se a concessão de aposentadorias a ser...  2.943574      3   \n",
      "5027  Trata-se da prestação de contas da Agência Nac...  2.889175      3   \n",
      "5028  p class=\"tCU_-_Epígrafe\">1. Além do dever lega...  2.960806      3   \n",
      "5029  Adoto como relatório a instrução de fls. 468/4...  2.940528      3   \n",
      "\n",
      "      SPLIT  \n",
      "0      TEST  \n",
      "1     TRAIN  \n",
      "2     VALID  \n",
      "3     TRAIN  \n",
      "4     VALID  \n",
      "...     ...  \n",
      "5025  VALID  \n",
      "5026  TRAIN  \n",
      "5027  TRAIN  \n",
      "5028  TRAIN  \n",
      "5029  TRAIN  \n",
      "\n",
      "[5030 rows x 5 columns]\n"
     ]
    }
   ],
   "source": [
    "print(tcu_sts_df)\n",
    "tcu_sts_df.to_csv('../datasets/tcu_sts.csv', index=False)"
   ]
  }
 ],
 "metadata": {
  "kernelspec": {
   "display_name": "Python 3",
   "language": "python",
   "name": "python3"
  },
  "language_info": {
   "codemirror_mode": {
    "name": "ipython",
    "version": 3
   },
   "file_extension": ".py",
   "mimetype": "text/x-python",
   "name": "python",
   "nbconvert_exporter": "python",
   "pygments_lexer": "ipython3",
   "version": "3.7.4"
  }
 },
 "nbformat": 4,
 "nbformat_minor": 4
}
