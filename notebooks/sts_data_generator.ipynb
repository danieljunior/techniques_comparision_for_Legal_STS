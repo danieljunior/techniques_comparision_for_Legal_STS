{
 "metadata": {
  "language_info": {
   "codemirror_mode": {
    "name": "ipython",
    "version": 3
   },
   "file_extension": ".py",
   "mimetype": "text/x-python",
   "name": "python",
   "nbconvert_exporter": "python",
   "pygments_lexer": "ipython3",
   "version": "3.8.2-final"
  },
  "orig_nbformat": 2,
  "kernelspec": {
   "name": "python3",
   "display_name": "Python 3.8.2 64-bit ('ml': conda)",
   "metadata": {
    "interpreter": {
     "hash": "57964499ad1a1b365427e00328bf8ee58c5167a7b1b5e33dd66d854df27b0892"
    }
   }
  }
 },
 "nbformat": 4,
 "nbformat_minor": 2,
 "cells": [
  {
   "cell_type": "code",
   "execution_count": 159,
   "metadata": {},
   "outputs": [],
   "source": [
    "import pandas as pd\n",
    "import re\n",
    "import itertools\n",
    "import numpy as np\n",
    "import random\n",
    "from sklearn.model_selection import train_test_split\n",
    "\n",
    "%matplotlib inline\n",
    "\n",
    "random.seed(0)\n",
    "np.random.seed(0)\n",
    "\n",
    "mu, sigma = 0, 0.1 "
   ]
  },
  {
   "source": [
    "# Análise dos dados de precedentes do STJ"
   ],
   "cell_type": "markdown",
   "metadata": {}
  },
  {
   "cell_type": "code",
   "execution_count": 160,
   "metadata": {},
   "outputs": [],
   "source": [
    "stj = pd.read_csv('../datasets/jurisprudencias_stj.csv', index_col=0)\n",
    "stj['PROCESSO'] = stj['PROCESSO'].apply(lambda x: re.sub('Processo\\n','',x))\n",
    "stj['RELATOR'] = stj['RELATOR'].apply(lambda x: re.sub('Relator(a)\\n','',x))\n",
    "stj['ORGAO'] = stj['ORGAO'].apply(lambda x: re.sub('Órgão Julgador\\n','',x))\n",
    "stj['DATA_JULGAMENTO'] = stj['DATA_JULGAMENTO'].apply(lambda x: re.sub('Data do Julgamento\\n','',x))\n",
    "stj['DATA_PUBLICACAO'] = stj['DATA_PUBLICACAO'].apply(lambda x: re.sub('Data da Publicação/Fonte\\nDJe','',x))\n",
    "stj['EMENTA'] = stj['EMENTA'].apply(lambda x: re.sub('Ementa\\n','',x))"
   ]
  },
  {
   "cell_type": "code",
   "execution_count": 161,
   "metadata": {},
   "outputs": [
    {
     "output_type": "stream",
     "name": "stdout",
     "text": [
      "Total de precedentes extraídos:  7407\nTotal de Jurisprudências:  1458\n\n\nHistograma precedentes por Jurisprudência: \n"
     ]
    },
    {
     "output_type": "execute_result",
     "data": {
      "text/plain": [
       "<matplotlib.axes._subplots.AxesSubplot at 0x7fcddd0ed4f0>"
      ]
     },
     "metadata": {},
     "execution_count": 161
    },
    {
     "output_type": "display_data",
     "data": {
      "text/plain": "<Figure size 432x288 with 1 Axes>",
      "image/svg+xml": "<?xml version=\"1.0\" encoding=\"utf-8\" standalone=\"no\"?>\n<!DOCTYPE svg PUBLIC \"-//W3C//DTD SVG 1.1//EN\"\n  \"http://www.w3.org/Graphics/SVG/1.1/DTD/svg11.dtd\">\n<!-- Created with matplotlib (https://matplotlib.org/) -->\n<svg height=\"248.518125pt\" version=\"1.1\" viewBox=\"0 0 375.2875 248.518125\" width=\"375.2875pt\" xmlns=\"http://www.w3.org/2000/svg\" xmlns:xlink=\"http://www.w3.org/1999/xlink\">\n <defs>\n  <style type=\"text/css\">\n*{stroke-linecap:butt;stroke-linejoin:round;}\n  </style>\n </defs>\n <g id=\"figure_1\">\n  <g id=\"patch_1\">\n   <path d=\"M 0 248.518125 \nL 375.2875 248.518125 \nL 375.2875 0 \nL 0 0 \nz\n\" style=\"fill:none;\"/>\n  </g>\n  <g id=\"axes_1\">\n   <g id=\"patch_2\">\n    <path d=\"M 33.2875 224.64 \nL 368.0875 224.64 \nL 368.0875 7.2 \nL 33.2875 7.2 \nz\n\" style=\"fill:#ffffff;\"/>\n   </g>\n   <g id=\"patch_3\">\n    <path clip-path=\"url(#p2fb7b52ee7)\" d=\"M 48.505682 224.64 \nL 78.942045 224.64 \nL 78.942045 167.051557 \nL 48.505682 167.051557 \nz\n\" style=\"fill:#1f77b4;\"/>\n   </g>\n   <g id=\"patch_4\">\n    <path clip-path=\"url(#p2fb7b52ee7)\" d=\"M 78.942045 224.64 \nL 109.378409 224.64 \nL 109.378409 179.848989 \nL 78.942045 179.848989 \nz\n\" style=\"fill:#1f77b4;\"/>\n   </g>\n   <g id=\"patch_5\">\n    <path clip-path=\"url(#p2fb7b52ee7)\" d=\"M 109.378409 224.64 \nL 139.814773 224.64 \nL 139.814773 174.322825 \nL 109.378409 174.322825 \nz\n\" style=\"fill:#1f77b4;\"/>\n   </g>\n   <g id=\"patch_6\">\n    <path clip-path=\"url(#p2fb7b52ee7)\" d=\"M 139.814773 224.64 \nL 170.251136 224.64 \nL 170.251136 17.554286 \nL 139.814773 17.554286 \nz\n\" style=\"fill:#1f77b4;\"/>\n   </g>\n   <g id=\"patch_7\">\n    <path clip-path=\"url(#p2fb7b52ee7)\" d=\"M 170.251136 224.64 \nL 200.6875 224.64 \nL 200.6875 201.371942 \nL 170.251136 201.371942 \nz\n\" style=\"fill:#1f77b4;\"/>\n   </g>\n   <g id=\"patch_8\">\n    <path clip-path=\"url(#p2fb7b52ee7)\" d=\"M 200.6875 224.64 \nL 231.123864 224.64 \nL 231.123864 209.515762 \nL 200.6875 209.515762 \nz\n\" style=\"fill:#1f77b4;\"/>\n   </g>\n   <g id=\"patch_9\">\n    <path clip-path=\"url(#p2fb7b52ee7)\" d=\"M 231.123864 224.64 \nL 261.560227 224.64 \nL 261.560227 200.49939 \nL 231.123864 200.49939 \nz\n\" style=\"fill:#1f77b4;\"/>\n   </g>\n   <g id=\"patch_10\">\n    <path clip-path=\"url(#p2fb7b52ee7)\" d=\"M 261.560227 224.64 \nL 291.996591 224.64 \nL 291.996591 223.767448 \nL 261.560227 223.767448 \nz\n\" style=\"fill:#1f77b4;\"/>\n   </g>\n   <g id=\"patch_11\">\n    <path clip-path=\"url(#p2fb7b52ee7)\" d=\"M 291.996591 224.64 \nL 322.432955 224.64 \nL 322.432955 224.058299 \nL 291.996591 224.058299 \nz\n\" style=\"fill:#1f77b4;\"/>\n   </g>\n   <g id=\"patch_12\">\n    <path clip-path=\"url(#p2fb7b52ee7)\" d=\"M 322.432955 224.64 \nL 352.869318 224.64 \nL 352.869318 224.349149 \nL 322.432955 224.349149 \nz\n\" style=\"fill:#1f77b4;\"/>\n   </g>\n   <g id=\"matplotlib.axis_1\">\n    <g id=\"xtick_1\">\n     <g id=\"line2d_1\">\n      <path clip-path=\"url(#p2fb7b52ee7)\" d=\"M 71.918269 224.64 \nL 71.918269 7.2 \n\" style=\"fill:none;stroke:#b0b0b0;stroke-linecap:square;stroke-width:0.8;\"/>\n     </g>\n     <g id=\"line2d_2\">\n      <defs>\n       <path d=\"M 0 0 \nL 0 3.5 \n\" id=\"mb803b124b7\" style=\"stroke:#000000;stroke-width:0.8;\"/>\n      </defs>\n      <g>\n       <use style=\"stroke:#000000;stroke-width:0.8;\" x=\"71.918269\" xlink:href=\"#mb803b124b7\" y=\"224.64\"/>\n      </g>\n     </g>\n     <g id=\"text_1\">\n      <!-- 2 -->\n      <defs>\n       <path d=\"M 19.1875 8.296875 \nL 53.609375 8.296875 \nL 53.609375 0 \nL 7.328125 0 \nL 7.328125 8.296875 \nQ 12.9375 14.109375 22.625 23.890625 \nQ 32.328125 33.6875 34.8125 36.53125 \nQ 39.546875 41.84375 41.421875 45.53125 \nQ 43.3125 49.21875 43.3125 52.78125 \nQ 43.3125 58.59375 39.234375 62.25 \nQ 35.15625 65.921875 28.609375 65.921875 \nQ 23.96875 65.921875 18.8125 64.3125 \nQ 13.671875 62.703125 7.8125 59.421875 \nL 7.8125 69.390625 \nQ 13.765625 71.78125 18.9375 73 \nQ 24.125 74.21875 28.421875 74.21875 \nQ 39.75 74.21875 46.484375 68.546875 \nQ 53.21875 62.890625 53.21875 53.421875 \nQ 53.21875 48.921875 51.53125 44.890625 \nQ 49.859375 40.875 45.40625 35.40625 \nQ 44.1875 33.984375 37.640625 27.21875 \nQ 31.109375 20.453125 19.1875 8.296875 \nz\n\" id=\"DejaVuSans-50\"/>\n      </defs>\n      <g transform=\"translate(68.737019 239.238437)scale(0.1 -0.1)\">\n       <use xlink:href=\"#DejaVuSans-50\"/>\n      </g>\n     </g>\n    </g>\n    <g id=\"xtick_2\">\n     <g id=\"line2d_3\">\n      <path clip-path=\"url(#p2fb7b52ee7)\" d=\"M 118.743444 224.64 \nL 118.743444 7.2 \n\" style=\"fill:none;stroke:#b0b0b0;stroke-linecap:square;stroke-width:0.8;\"/>\n     </g>\n     <g id=\"line2d_4\">\n      <g>\n       <use style=\"stroke:#000000;stroke-width:0.8;\" x=\"118.743444\" xlink:href=\"#mb803b124b7\" y=\"224.64\"/>\n      </g>\n     </g>\n     <g id=\"text_2\">\n      <!-- 4 -->\n      <defs>\n       <path d=\"M 37.796875 64.3125 \nL 12.890625 25.390625 \nL 37.796875 25.390625 \nz\nM 35.203125 72.90625 \nL 47.609375 72.90625 \nL 47.609375 25.390625 \nL 58.015625 25.390625 \nL 58.015625 17.1875 \nL 47.609375 17.1875 \nL 47.609375 0 \nL 37.796875 0 \nL 37.796875 17.1875 \nL 4.890625 17.1875 \nL 4.890625 26.703125 \nz\n\" id=\"DejaVuSans-52\"/>\n      </defs>\n      <g transform=\"translate(115.562194 239.238437)scale(0.1 -0.1)\">\n       <use xlink:href=\"#DejaVuSans-52\"/>\n      </g>\n     </g>\n    </g>\n    <g id=\"xtick_3\">\n     <g id=\"line2d_5\">\n      <path clip-path=\"url(#p2fb7b52ee7)\" d=\"M 165.568619 224.64 \nL 165.568619 7.2 \n\" style=\"fill:none;stroke:#b0b0b0;stroke-linecap:square;stroke-width:0.8;\"/>\n     </g>\n     <g id=\"line2d_6\">\n      <g>\n       <use style=\"stroke:#000000;stroke-width:0.8;\" x=\"165.568619\" xlink:href=\"#mb803b124b7\" y=\"224.64\"/>\n      </g>\n     </g>\n     <g id=\"text_3\">\n      <!-- 6 -->\n      <defs>\n       <path d=\"M 33.015625 40.375 \nQ 26.375 40.375 22.484375 35.828125 \nQ 18.609375 31.296875 18.609375 23.390625 \nQ 18.609375 15.53125 22.484375 10.953125 \nQ 26.375 6.390625 33.015625 6.390625 \nQ 39.65625 6.390625 43.53125 10.953125 \nQ 47.40625 15.53125 47.40625 23.390625 \nQ 47.40625 31.296875 43.53125 35.828125 \nQ 39.65625 40.375 33.015625 40.375 \nz\nM 52.59375 71.296875 \nL 52.59375 62.3125 \nQ 48.875 64.0625 45.09375 64.984375 \nQ 41.3125 65.921875 37.59375 65.921875 \nQ 27.828125 65.921875 22.671875 59.328125 \nQ 17.53125 52.734375 16.796875 39.40625 \nQ 19.671875 43.65625 24.015625 45.921875 \nQ 28.375 48.1875 33.59375 48.1875 \nQ 44.578125 48.1875 50.953125 41.515625 \nQ 57.328125 34.859375 57.328125 23.390625 \nQ 57.328125 12.15625 50.6875 5.359375 \nQ 44.046875 -1.421875 33.015625 -1.421875 \nQ 20.359375 -1.421875 13.671875 8.265625 \nQ 6.984375 17.96875 6.984375 36.375 \nQ 6.984375 53.65625 15.1875 63.9375 \nQ 23.390625 74.21875 37.203125 74.21875 \nQ 40.921875 74.21875 44.703125 73.484375 \nQ 48.484375 72.75 52.59375 71.296875 \nz\n\" id=\"DejaVuSans-54\"/>\n      </defs>\n      <g transform=\"translate(162.387369 239.238437)scale(0.1 -0.1)\">\n       <use xlink:href=\"#DejaVuSans-54\"/>\n      </g>\n     </g>\n    </g>\n    <g id=\"xtick_4\">\n     <g id=\"line2d_7\">\n      <path clip-path=\"url(#p2fb7b52ee7)\" d=\"M 212.393794 224.64 \nL 212.393794 7.2 \n\" style=\"fill:none;stroke:#b0b0b0;stroke-linecap:square;stroke-width:0.8;\"/>\n     </g>\n     <g id=\"line2d_8\">\n      <g>\n       <use style=\"stroke:#000000;stroke-width:0.8;\" x=\"212.393794\" xlink:href=\"#mb803b124b7\" y=\"224.64\"/>\n      </g>\n     </g>\n     <g id=\"text_4\">\n      <!-- 8 -->\n      <defs>\n       <path d=\"M 31.78125 34.625 \nQ 24.75 34.625 20.71875 30.859375 \nQ 16.703125 27.09375 16.703125 20.515625 \nQ 16.703125 13.921875 20.71875 10.15625 \nQ 24.75 6.390625 31.78125 6.390625 \nQ 38.8125 6.390625 42.859375 10.171875 \nQ 46.921875 13.96875 46.921875 20.515625 \nQ 46.921875 27.09375 42.890625 30.859375 \nQ 38.875 34.625 31.78125 34.625 \nz\nM 21.921875 38.8125 \nQ 15.578125 40.375 12.03125 44.71875 \nQ 8.5 49.078125 8.5 55.328125 \nQ 8.5 64.0625 14.71875 69.140625 \nQ 20.953125 74.21875 31.78125 74.21875 \nQ 42.671875 74.21875 48.875 69.140625 \nQ 55.078125 64.0625 55.078125 55.328125 \nQ 55.078125 49.078125 51.53125 44.71875 \nQ 48 40.375 41.703125 38.8125 \nQ 48.828125 37.15625 52.796875 32.3125 \nQ 56.78125 27.484375 56.78125 20.515625 \nQ 56.78125 9.90625 50.3125 4.234375 \nQ 43.84375 -1.421875 31.78125 -1.421875 \nQ 19.734375 -1.421875 13.25 4.234375 \nQ 6.78125 9.90625 6.78125 20.515625 \nQ 6.78125 27.484375 10.78125 32.3125 \nQ 14.796875 37.15625 21.921875 38.8125 \nz\nM 18.3125 54.390625 \nQ 18.3125 48.734375 21.84375 45.5625 \nQ 25.390625 42.390625 31.78125 42.390625 \nQ 38.140625 42.390625 41.71875 45.5625 \nQ 45.3125 48.734375 45.3125 54.390625 \nQ 45.3125 60.0625 41.71875 63.234375 \nQ 38.140625 66.40625 31.78125 66.40625 \nQ 25.390625 66.40625 21.84375 63.234375 \nQ 18.3125 60.0625 18.3125 54.390625 \nz\n\" id=\"DejaVuSans-56\"/>\n      </defs>\n      <g transform=\"translate(209.212544 239.238437)scale(0.1 -0.1)\">\n       <use xlink:href=\"#DejaVuSans-56\"/>\n      </g>\n     </g>\n    </g>\n    <g id=\"xtick_5\">\n     <g id=\"line2d_9\">\n      <path clip-path=\"url(#p2fb7b52ee7)\" d=\"M 259.218969 224.64 \nL 259.218969 7.2 \n\" style=\"fill:none;stroke:#b0b0b0;stroke-linecap:square;stroke-width:0.8;\"/>\n     </g>\n     <g id=\"line2d_10\">\n      <g>\n       <use style=\"stroke:#000000;stroke-width:0.8;\" x=\"259.218969\" xlink:href=\"#mb803b124b7\" y=\"224.64\"/>\n      </g>\n     </g>\n     <g id=\"text_5\">\n      <!-- 10 -->\n      <defs>\n       <path d=\"M 12.40625 8.296875 \nL 28.515625 8.296875 \nL 28.515625 63.921875 \nL 10.984375 60.40625 \nL 10.984375 69.390625 \nL 28.421875 72.90625 \nL 38.28125 72.90625 \nL 38.28125 8.296875 \nL 54.390625 8.296875 \nL 54.390625 0 \nL 12.40625 0 \nz\n\" id=\"DejaVuSans-49\"/>\n       <path d=\"M 31.78125 66.40625 \nQ 24.171875 66.40625 20.328125 58.90625 \nQ 16.5 51.421875 16.5 36.375 \nQ 16.5 21.390625 20.328125 13.890625 \nQ 24.171875 6.390625 31.78125 6.390625 \nQ 39.453125 6.390625 43.28125 13.890625 \nQ 47.125 21.390625 47.125 36.375 \nQ 47.125 51.421875 43.28125 58.90625 \nQ 39.453125 66.40625 31.78125 66.40625 \nz\nM 31.78125 74.21875 \nQ 44.046875 74.21875 50.515625 64.515625 \nQ 56.984375 54.828125 56.984375 36.375 \nQ 56.984375 17.96875 50.515625 8.265625 \nQ 44.046875 -1.421875 31.78125 -1.421875 \nQ 19.53125 -1.421875 13.0625 8.265625 \nQ 6.59375 17.96875 6.59375 36.375 \nQ 6.59375 54.828125 13.0625 64.515625 \nQ 19.53125 74.21875 31.78125 74.21875 \nz\n\" id=\"DejaVuSans-48\"/>\n      </defs>\n      <g transform=\"translate(252.856469 239.238437)scale(0.1 -0.1)\">\n       <use xlink:href=\"#DejaVuSans-49\"/>\n       <use x=\"63.623047\" xlink:href=\"#DejaVuSans-48\"/>\n      </g>\n     </g>\n    </g>\n    <g id=\"xtick_6\">\n     <g id=\"line2d_11\">\n      <path clip-path=\"url(#p2fb7b52ee7)\" d=\"M 306.044143 224.64 \nL 306.044143 7.2 \n\" style=\"fill:none;stroke:#b0b0b0;stroke-linecap:square;stroke-width:0.8;\"/>\n     </g>\n     <g id=\"line2d_12\">\n      <g>\n       <use style=\"stroke:#000000;stroke-width:0.8;\" x=\"306.044143\" xlink:href=\"#mb803b124b7\" y=\"224.64\"/>\n      </g>\n     </g>\n     <g id=\"text_6\">\n      <!-- 12 -->\n      <g transform=\"translate(299.681643 239.238437)scale(0.1 -0.1)\">\n       <use xlink:href=\"#DejaVuSans-49\"/>\n       <use x=\"63.623047\" xlink:href=\"#DejaVuSans-50\"/>\n      </g>\n     </g>\n    </g>\n    <g id=\"xtick_7\">\n     <g id=\"line2d_13\">\n      <path clip-path=\"url(#p2fb7b52ee7)\" d=\"M 352.869318 224.64 \nL 352.869318 7.2 \n\" style=\"fill:none;stroke:#b0b0b0;stroke-linecap:square;stroke-width:0.8;\"/>\n     </g>\n     <g id=\"line2d_14\">\n      <g>\n       <use style=\"stroke:#000000;stroke-width:0.8;\" x=\"352.869318\" xlink:href=\"#mb803b124b7\" y=\"224.64\"/>\n      </g>\n     </g>\n     <g id=\"text_7\">\n      <!-- 14 -->\n      <g transform=\"translate(346.506818 239.238437)scale(0.1 -0.1)\">\n       <use xlink:href=\"#DejaVuSans-49\"/>\n       <use x=\"63.623047\" xlink:href=\"#DejaVuSans-52\"/>\n      </g>\n     </g>\n    </g>\n   </g>\n   <g id=\"matplotlib.axis_2\">\n    <g id=\"ytick_1\">\n     <g id=\"line2d_15\">\n      <path clip-path=\"url(#p2fb7b52ee7)\" d=\"M 33.2875 224.64 \nL 368.0875 224.64 \n\" style=\"fill:none;stroke:#b0b0b0;stroke-linecap:square;stroke-width:0.8;\"/>\n     </g>\n     <g id=\"line2d_16\">\n      <defs>\n       <path d=\"M 0 0 \nL -3.5 0 \n\" id=\"md38c12b714\" style=\"stroke:#000000;stroke-width:0.8;\"/>\n      </defs>\n      <g>\n       <use style=\"stroke:#000000;stroke-width:0.8;\" x=\"33.2875\" xlink:href=\"#md38c12b714\" y=\"224.64\"/>\n      </g>\n     </g>\n     <g id=\"text_8\">\n      <!-- 0 -->\n      <g transform=\"translate(19.925 228.439219)scale(0.1 -0.1)\">\n       <use xlink:href=\"#DejaVuSans-48\"/>\n      </g>\n     </g>\n    </g>\n    <g id=\"ytick_2\">\n     <g id=\"line2d_17\">\n      <path clip-path=\"url(#p2fb7b52ee7)\" d=\"M 33.2875 195.554928 \nL 368.0875 195.554928 \n\" style=\"fill:none;stroke:#b0b0b0;stroke-linecap:square;stroke-width:0.8;\"/>\n     </g>\n     <g id=\"line2d_18\">\n      <g>\n       <use style=\"stroke:#000000;stroke-width:0.8;\" x=\"33.2875\" xlink:href=\"#md38c12b714\" y=\"195.554928\"/>\n      </g>\n     </g>\n     <g id=\"text_9\">\n      <!-- 100 -->\n      <g transform=\"translate(7.2 199.354147)scale(0.1 -0.1)\">\n       <use xlink:href=\"#DejaVuSans-49\"/>\n       <use x=\"63.623047\" xlink:href=\"#DejaVuSans-48\"/>\n       <use x=\"127.246094\" xlink:href=\"#DejaVuSans-48\"/>\n      </g>\n     </g>\n    </g>\n    <g id=\"ytick_3\">\n     <g id=\"line2d_19\">\n      <path clip-path=\"url(#p2fb7b52ee7)\" d=\"M 33.2875 166.469856 \nL 368.0875 166.469856 \n\" style=\"fill:none;stroke:#b0b0b0;stroke-linecap:square;stroke-width:0.8;\"/>\n     </g>\n     <g id=\"line2d_20\">\n      <g>\n       <use style=\"stroke:#000000;stroke-width:0.8;\" x=\"33.2875\" xlink:href=\"#md38c12b714\" y=\"166.469856\"/>\n      </g>\n     </g>\n     <g id=\"text_10\">\n      <!-- 200 -->\n      <g transform=\"translate(7.2 170.269074)scale(0.1 -0.1)\">\n       <use xlink:href=\"#DejaVuSans-50\"/>\n       <use x=\"63.623047\" xlink:href=\"#DejaVuSans-48\"/>\n       <use x=\"127.246094\" xlink:href=\"#DejaVuSans-48\"/>\n      </g>\n     </g>\n    </g>\n    <g id=\"ytick_4\">\n     <g id=\"line2d_21\">\n      <path clip-path=\"url(#p2fb7b52ee7)\" d=\"M 33.2875 137.384783 \nL 368.0875 137.384783 \n\" style=\"fill:none;stroke:#b0b0b0;stroke-linecap:square;stroke-width:0.8;\"/>\n     </g>\n     <g id=\"line2d_22\">\n      <g>\n       <use style=\"stroke:#000000;stroke-width:0.8;\" x=\"33.2875\" xlink:href=\"#md38c12b714\" y=\"137.384783\"/>\n      </g>\n     </g>\n     <g id=\"text_11\">\n      <!-- 300 -->\n      <defs>\n       <path d=\"M 40.578125 39.3125 \nQ 47.65625 37.796875 51.625 33 \nQ 55.609375 28.21875 55.609375 21.1875 \nQ 55.609375 10.40625 48.1875 4.484375 \nQ 40.765625 -1.421875 27.09375 -1.421875 \nQ 22.515625 -1.421875 17.65625 -0.515625 \nQ 12.796875 0.390625 7.625 2.203125 \nL 7.625 11.71875 \nQ 11.71875 9.328125 16.59375 8.109375 \nQ 21.484375 6.890625 26.8125 6.890625 \nQ 36.078125 6.890625 40.9375 10.546875 \nQ 45.796875 14.203125 45.796875 21.1875 \nQ 45.796875 27.640625 41.28125 31.265625 \nQ 36.765625 34.90625 28.71875 34.90625 \nL 20.21875 34.90625 \nL 20.21875 43.015625 \nL 29.109375 43.015625 \nQ 36.375 43.015625 40.234375 45.921875 \nQ 44.09375 48.828125 44.09375 54.296875 \nQ 44.09375 59.90625 40.109375 62.90625 \nQ 36.140625 65.921875 28.71875 65.921875 \nQ 24.65625 65.921875 20.015625 65.03125 \nQ 15.375 64.15625 9.8125 62.3125 \nL 9.8125 71.09375 \nQ 15.4375 72.65625 20.34375 73.4375 \nQ 25.25 74.21875 29.59375 74.21875 \nQ 40.828125 74.21875 47.359375 69.109375 \nQ 53.90625 64.015625 53.90625 55.328125 \nQ 53.90625 49.265625 50.4375 45.09375 \nQ 46.96875 40.921875 40.578125 39.3125 \nz\n\" id=\"DejaVuSans-51\"/>\n      </defs>\n      <g transform=\"translate(7.2 141.184002)scale(0.1 -0.1)\">\n       <use xlink:href=\"#DejaVuSans-51\"/>\n       <use x=\"63.623047\" xlink:href=\"#DejaVuSans-48\"/>\n       <use x=\"127.246094\" xlink:href=\"#DejaVuSans-48\"/>\n      </g>\n     </g>\n    </g>\n    <g id=\"ytick_5\">\n     <g id=\"line2d_23\">\n      <path clip-path=\"url(#p2fb7b52ee7)\" d=\"M 33.2875 108.299711 \nL 368.0875 108.299711 \n\" style=\"fill:none;stroke:#b0b0b0;stroke-linecap:square;stroke-width:0.8;\"/>\n     </g>\n     <g id=\"line2d_24\">\n      <g>\n       <use style=\"stroke:#000000;stroke-width:0.8;\" x=\"33.2875\" xlink:href=\"#md38c12b714\" y=\"108.299711\"/>\n      </g>\n     </g>\n     <g id=\"text_12\">\n      <!-- 400 -->\n      <g transform=\"translate(7.2 112.09893)scale(0.1 -0.1)\">\n       <use xlink:href=\"#DejaVuSans-52\"/>\n       <use x=\"63.623047\" xlink:href=\"#DejaVuSans-48\"/>\n       <use x=\"127.246094\" xlink:href=\"#DejaVuSans-48\"/>\n      </g>\n     </g>\n    </g>\n    <g id=\"ytick_6\">\n     <g id=\"line2d_25\">\n      <path clip-path=\"url(#p2fb7b52ee7)\" d=\"M 33.2875 79.214639 \nL 368.0875 79.214639 \n\" style=\"fill:none;stroke:#b0b0b0;stroke-linecap:square;stroke-width:0.8;\"/>\n     </g>\n     <g id=\"line2d_26\">\n      <g>\n       <use style=\"stroke:#000000;stroke-width:0.8;\" x=\"33.2875\" xlink:href=\"#md38c12b714\" y=\"79.214639\"/>\n      </g>\n     </g>\n     <g id=\"text_13\">\n      <!-- 500 -->\n      <defs>\n       <path d=\"M 10.796875 72.90625 \nL 49.515625 72.90625 \nL 49.515625 64.59375 \nL 19.828125 64.59375 \nL 19.828125 46.734375 \nQ 21.96875 47.46875 24.109375 47.828125 \nQ 26.265625 48.1875 28.421875 48.1875 \nQ 40.625 48.1875 47.75 41.5 \nQ 54.890625 34.8125 54.890625 23.390625 \nQ 54.890625 11.625 47.5625 5.09375 \nQ 40.234375 -1.421875 26.90625 -1.421875 \nQ 22.3125 -1.421875 17.546875 -0.640625 \nQ 12.796875 0.140625 7.71875 1.703125 \nL 7.71875 11.625 \nQ 12.109375 9.234375 16.796875 8.0625 \nQ 21.484375 6.890625 26.703125 6.890625 \nQ 35.15625 6.890625 40.078125 11.328125 \nQ 45.015625 15.765625 45.015625 23.390625 \nQ 45.015625 31 40.078125 35.4375 \nQ 35.15625 39.890625 26.703125 39.890625 \nQ 22.75 39.890625 18.8125 39.015625 \nQ 14.890625 38.140625 10.796875 36.28125 \nz\n\" id=\"DejaVuSans-53\"/>\n      </defs>\n      <g transform=\"translate(7.2 83.013858)scale(0.1 -0.1)\">\n       <use xlink:href=\"#DejaVuSans-53\"/>\n       <use x=\"63.623047\" xlink:href=\"#DejaVuSans-48\"/>\n       <use x=\"127.246094\" xlink:href=\"#DejaVuSans-48\"/>\n      </g>\n     </g>\n    </g>\n    <g id=\"ytick_7\">\n     <g id=\"line2d_27\">\n      <path clip-path=\"url(#p2fb7b52ee7)\" d=\"M 33.2875 50.129567 \nL 368.0875 50.129567 \n\" style=\"fill:none;stroke:#b0b0b0;stroke-linecap:square;stroke-width:0.8;\"/>\n     </g>\n     <g id=\"line2d_28\">\n      <g>\n       <use style=\"stroke:#000000;stroke-width:0.8;\" x=\"33.2875\" xlink:href=\"#md38c12b714\" y=\"50.129567\"/>\n      </g>\n     </g>\n     <g id=\"text_14\">\n      <!-- 600 -->\n      <g transform=\"translate(7.2 53.928785)scale(0.1 -0.1)\">\n       <use xlink:href=\"#DejaVuSans-54\"/>\n       <use x=\"63.623047\" xlink:href=\"#DejaVuSans-48\"/>\n       <use x=\"127.246094\" xlink:href=\"#DejaVuSans-48\"/>\n      </g>\n     </g>\n    </g>\n    <g id=\"ytick_8\">\n     <g id=\"line2d_29\">\n      <path clip-path=\"url(#p2fb7b52ee7)\" d=\"M 33.2875 21.044494 \nL 368.0875 21.044494 \n\" style=\"fill:none;stroke:#b0b0b0;stroke-linecap:square;stroke-width:0.8;\"/>\n     </g>\n     <g id=\"line2d_30\">\n      <g>\n       <use style=\"stroke:#000000;stroke-width:0.8;\" x=\"33.2875\" xlink:href=\"#md38c12b714\" y=\"21.044494\"/>\n      </g>\n     </g>\n     <g id=\"text_15\">\n      <!-- 700 -->\n      <defs>\n       <path d=\"M 8.203125 72.90625 \nL 55.078125 72.90625 \nL 55.078125 68.703125 \nL 28.609375 0 \nL 18.3125 0 \nL 43.21875 64.59375 \nL 8.203125 64.59375 \nz\n\" id=\"DejaVuSans-55\"/>\n      </defs>\n      <g transform=\"translate(7.2 24.843713)scale(0.1 -0.1)\">\n       <use xlink:href=\"#DejaVuSans-55\"/>\n       <use x=\"63.623047\" xlink:href=\"#DejaVuSans-48\"/>\n       <use x=\"127.246094\" xlink:href=\"#DejaVuSans-48\"/>\n      </g>\n     </g>\n    </g>\n   </g>\n   <g id=\"patch_13\">\n    <path d=\"M 33.2875 224.64 \nL 33.2875 7.2 \n\" style=\"fill:none;stroke:#000000;stroke-linecap:square;stroke-linejoin:miter;stroke-width:0.8;\"/>\n   </g>\n   <g id=\"patch_14\">\n    <path d=\"M 368.0875 224.64 \nL 368.0875 7.2 \n\" style=\"fill:none;stroke:#000000;stroke-linecap:square;stroke-linejoin:miter;stroke-width:0.8;\"/>\n   </g>\n   <g id=\"patch_15\">\n    <path d=\"M 33.2875 224.64 \nL 368.0875 224.64 \n\" style=\"fill:none;stroke:#000000;stroke-linecap:square;stroke-linejoin:miter;stroke-width:0.8;\"/>\n   </g>\n   <g id=\"patch_16\">\n    <path d=\"M 33.2875 7.2 \nL 368.0875 7.2 \n\" style=\"fill:none;stroke:#000000;stroke-linecap:square;stroke-linejoin:miter;stroke-width:0.8;\"/>\n   </g>\n  </g>\n </g>\n <defs>\n  <clipPath id=\"p2fb7b52ee7\">\n   <rect height=\"217.44\" width=\"334.8\" x=\"33.2875\" y=\"7.2\"/>\n  </clipPath>\n </defs>\n</svg>\n",
      "image/png": "[encoded data removed]"
     },
     "metadata": {
      "needs_background": "light"
     }
    }
   ],
   "source": [
    "print('Total de precedentes extraídos: ', len(stj))\n",
    "print('Total de Jurisprudências: ', len(stj.TEMA.unique()))\n",
    "print('\\n\\nHistograma precedentes por Jurisprudência: ')\n",
    "stj.TEMA.value_counts().hist()"
   ]
  },
  {
   "source": [
    "O histograma mostra que grande parte das jurisprudências extraídas possuem entre 5 e 6 precedentes."
   ],
   "cell_type": "markdown",
   "metadata": {}
  },
  {
   "cell_type": "code",
   "execution_count": 162,
   "metadata": {},
   "outputs": [],
   "source": [
    "stj1 = stj[stj.groupby(['TEMA'])['EMENTA'].transform('count') > 5]"
   ]
  },
  {
   "cell_type": "code",
   "execution_count": 163,
   "metadata": {},
   "outputs": [
    {
     "output_type": "stream",
     "name": "stderr",
     "text": [
      "/home/danieljunior/anaconda3/envs/ml/lib/python3.8/site-packages/pandas/core/generic.py:5303: SettingWithCopyWarning: \nA value is trying to be set on a copy of a slice from a DataFrame.\nTry using .loc[row_indexer,col_indexer] = value instead\n\nSee the caveats in the documentation: https://pandas.pydata.org/pandas-docs/stable/user_guide/indexing.html#returning-a-view-versus-a-copy\n  self[name] = value\n"
     ]
    },
    {
     "output_type": "execute_result",
     "data": {
      "text/plain": [
       "                     MATERIA                             NATUREZA  \\\n",
       "0     DIREITO ADMINISTRATIVO  PROCESSO ADMINISTRATIVO DISCIPLINAR   \n",
       "1     DIREITO ADMINISTRATIVO  PROCESSO ADMINISTRATIVO DISCIPLINAR   \n",
       "2     DIREITO ADMINISTRATIVO  PROCESSO ADMINISTRATIVO DISCIPLINAR   \n",
       "3     DIREITO ADMINISTRATIVO  PROCESSO ADMINISTRATIVO DISCIPLINAR   \n",
       "4     DIREITO ADMINISTRATIVO  PROCESSO ADMINISTRATIVO DISCIPLINAR   \n",
       "...                      ...                                  ...   \n",
       "7402           DIREITO PENAL                        LEI DE DROGAS   \n",
       "7403           DIREITO PENAL                        LEI DE DROGAS   \n",
       "7404           DIREITO PENAL                        LEI DE DROGAS   \n",
       "7405           DIREITO PENAL                        LEI DE DROGAS   \n",
       "7406           DIREITO PENAL                        LEI DE DROGAS   \n",
       "\n",
       "                                                   TEMA  \\\n",
       "0     1) A falta de defesa técnica por advogado no p...   \n",
       "1     1) A falta de defesa técnica por advogado no p...   \n",
       "2     1) A falta de defesa técnica por advogado no p...   \n",
       "3     1) A falta de defesa técnica por advogado no p...   \n",
       "4     1) A falta de defesa técnica por advogado no p...   \n",
       "...                                                 ...   \n",
       "7402  5) Reconhecida a inconstitucionalidade da veda...   \n",
       "7403  5) Reconhecida a inconstitucionalidade da veda...   \n",
       "7404  5) Reconhecida a inconstitucionalidade da veda...   \n",
       "7405  5) Reconhecida a inconstitucionalidade da veda...   \n",
       "7406  5) Reconhecida a inconstitucionalidade da veda...   \n",
       "\n",
       "                                               PROCESSO  \\\n",
       "0     AgRg no AREsp 331607 / SP\\nAGRAVO REGIMENTAL N...   \n",
       "1     RMS 31995 / RS\\nRECURSO ORDINÁRIO EM MANDADO D...   \n",
       "2     RMS 32169 / RN\\nRECURSO ORDINÁRIO EM MANDADO D...   \n",
       "3     AgRg no REsp 1256653 / SP\\nAGRAVO REGIMENTAL N...   \n",
       "4     MS 15313 / DF\\nMANDADO DE SEGURANÇA\\n2010/0092...   \n",
       "...                                                 ...   \n",
       "7402      HC 266190 / SP\\nHABEAS CORPUS\\n2013/0066727-0   \n",
       "7403      HC 327125 / SP\\nHABEAS CORPUS\\n2015/0140557-2   \n",
       "7404      HC 311010 / RS\\nHABEAS CORPUS\\n2014/0324066-4   \n",
       "7405      HC 317402 / SP\\nHABEAS CORPUS\\n2015/0040964-5   \n",
       "7406      HC 314207 / SP\\nHABEAS CORPUS\\n2015/0007505-4   \n",
       "\n",
       "                                                RELATOR                ORGAO  \\\n",
       "0           Relator(a)\\nMinistro HERMAN BENJAMIN (1132)   T2 - SEGUNDA TURMA   \n",
       "1             Relator(a)\\nMinistro SÉRGIO KUKINA (1155)  T1 - PRIMEIRA TURMA   \n",
       "2          Relator(a)\\nMinistro HUMBERTO MARTINS (1130)   T2 - SEGUNDA TURMA   \n",
       "3        Relator(a)\\nMinistro BENEDITO GONÇALVES (1142)  T1 - PRIMEIRA TURMA   \n",
       "4     Relator(a)\\nMinistro MAURO CAMPBELL MARQUES (1...  S1 - PRIMEIRA SEÇÃO   \n",
       "...                                                 ...                  ...   \n",
       "7402          Relator(a)\\nMinistro NEFI CORDEIRO (1159)     T6 - SEXTA TURMA   \n",
       "7403  Relator(a)\\nMinistro REYNALDO SOARES DA FONSEC...    T5 - QUINTA TURMA   \n",
       "7404          Relator(a)\\nMinistro FELIX FISCHER (1109)    T5 - QUINTA TURMA   \n",
       "7405            Relator(a)\\nMinistro JORGE MUSSI (1138)    T5 - QUINTA TURMA   \n",
       "7406  Relator(a)\\nMinistra MARIA THEREZA DE ASSIS MO...     T6 - SEXTA TURMA   \n",
       "\n",
       "     DATA_JULGAMENTO DATA_PUBLICACAO  \\\n",
       "0         15/08/2013      16/09/2013   \n",
       "1         15/08/2013      26/08/2013   \n",
       "2         02/05/2013      17/06/2013   \n",
       "3         28/08/2012      05/09/2012   \n",
       "4         09/11/2011      18/11/2011   \n",
       "...              ...             ...   \n",
       "7402      25/08/2015      15/09/2015   \n",
       "7403      25/08/2015      01/09/2015   \n",
       "7404      30/06/2015      17/08/2015   \n",
       "7405      05/05/2015      14/05/2015   \n",
       "7406      07/04/2015      13/04/2015   \n",
       "\n",
       "                                                 EMENTA  \n",
       "0     PROCESSUAL CIVIL. AGRAVO REGIMENTAL. ART. 535 ...  \n",
       "1     RECURSO ORDINÁRIO EM MANDADO DE SEGURANÇA. ORD...  \n",
       "2     PROCESSUAL CIVIL E ADMINISTRATIVO. MANDADO DE ...  \n",
       "3     PROCESSUAL CIVIL E ADMINISTRATIVO. AGRAVO REGI...  \n",
       "4     ADMINISTRATIVO. MANDADO DE SEGURANÇA. SERVIDOR...  \n",
       "...                                                 ...  \n",
       "7402  PROCESSUAL  PENAL  E  PENAL.  HABEAS CORPUS. S...  \n",
       "7403  HABEAS CORPUS SUBSTITUTO DE RECURSO. INADEQUAÇ...  \n",
       "7404  PENAL E PROCESSUAL PENAL. HABEAS CORPUS SUBSTI...  \n",
       "7405  HABEAS CORPUS. IMPETRAÇÃO EM SUBSTITUIÇÃO AO R...  \n",
       "7406  HABEAS CORPUS. TRÁFICO DE DROGAS. CONDENAÇÃO E...  \n",
       "\n",
       "[4902 rows x 9 columns]"
      ],
      "text/html": "<div>\n<style scoped>\n    .dataframe tbody tr th:only-of-type {\n        vertical-align: middle;\n    }\n\n    .dataframe tbody tr th {\n        vertical-align: top;\n    }\n\n    .dataframe thead th {\n        text-align: right;\n    }\n</style>\n<table border=\"1\" class=\"dataframe\">\n  <thead>\n    <tr style=\"text-align: right;\">\n      <th></th>\n      <th>MATERIA</th>\n      <th>NATUREZA</th>\n      <th>TEMA</th>\n      <th>PROCESSO</th>\n      <th>RELATOR</th>\n      <th>ORGAO</th>\n      <th>DATA_JULGAMENTO</th>\n      <th>DATA_PUBLICACAO</th>\n      <th>EMENTA</th>\n    </tr>\n  </thead>\n  <tbody>\n    <tr>\n      <th>0</th>\n      <td>DIREITO ADMINISTRATIVO</td>\n      <td>PROCESSO ADMINISTRATIVO DISCIPLINAR</td>\n      <td>1) A falta de defesa técnica por advogado no p...</td>\n      <td>AgRg no AREsp 331607 / SP\\nAGRAVO REGIMENTAL N...</td>\n      <td>Relator(a)\\nMinistro HERMAN BENJAMIN (1132)</td>\n      <td>T2 - SEGUNDA TURMA</td>\n      <td>15/08/2013</td>\n      <td>16/09/2013</td>\n      <td>PROCESSUAL CIVIL. AGRAVO REGIMENTAL. ART. 535 ...</td>\n    </tr>\n    <tr>\n      <th>1</th>\n      <td>DIREITO ADMINISTRATIVO</td>\n      <td>PROCESSO ADMINISTRATIVO DISCIPLINAR</td>\n      <td>1) A falta de defesa técnica por advogado no p...</td>\n      <td>RMS 31995 / RS\\nRECURSO ORDINÁRIO EM MANDADO D...</td>\n      <td>Relator(a)\\nMinistro SÉRGIO KUKINA (1155)</td>\n      <td>T1 - PRIMEIRA TURMA</td>\n      <td>15/08/2013</td>\n      <td>26/08/2013</td>\n      <td>RECURSO ORDINÁRIO EM MANDADO DE SEGURANÇA. ORD...</td>\n    </tr>\n    <tr>\n      <th>2</th>\n      <td>DIREITO ADMINISTRATIVO</td>\n      <td>PROCESSO ADMINISTRATIVO DISCIPLINAR</td>\n      <td>1) A falta de defesa técnica por advogado no p...</td>\n      <td>RMS 32169 / RN\\nRECURSO ORDINÁRIO EM MANDADO D...</td>\n      <td>Relator(a)\\nMinistro HUMBERTO MARTINS (1130)</td>\n      <td>T2 - SEGUNDA TURMA</td>\n      <td>02/05/2013</td>\n      <td>17/06/2013</td>\n      <td>PROCESSUAL CIVIL E ADMINISTRATIVO. MANDADO DE ...</td>\n    </tr>\n    <tr>\n      <th>3</th>\n      <td>DIREITO ADMINISTRATIVO</td>\n      <td>PROCESSO ADMINISTRATIVO DISCIPLINAR</td>\n      <td>1) A falta de defesa técnica por advogado no p...</td>\n      <td>AgRg no REsp 1256653 / SP\\nAGRAVO REGIMENTAL N...</td>\n      <td>Relator(a)\\nMinistro BENEDITO GONÇALVES (1142)</td>\n      <td>T1 - PRIMEIRA TURMA</td>\n      <td>28/08/2012</td>\n      <td>05/09/2012</td>\n      <td>PROCESSUAL CIVIL E ADMINISTRATIVO. AGRAVO REGI...</td>\n    </tr>\n    <tr>\n      <th>4</th>\n      <td>DIREITO ADMINISTRATIVO</td>\n      <td>PROCESSO ADMINISTRATIVO DISCIPLINAR</td>\n      <td>1) A falta de defesa técnica por advogado no p...</td>\n      <td>MS 15313 / DF\\nMANDADO DE SEGURANÇA\\n2010/0092...</td>\n      <td>Relator(a)\\nMinistro MAURO CAMPBELL MARQUES (1...</td>\n      <td>S1 - PRIMEIRA SEÇÃO</td>\n      <td>09/11/2011</td>\n      <td>18/11/2011</td>\n      <td>ADMINISTRATIVO. MANDADO DE SEGURANÇA. SERVIDOR...</td>\n    </tr>\n    <tr>\n      <th>...</th>\n      <td>...</td>\n      <td>...</td>\n      <td>...</td>\n      <td>...</td>\n      <td>...</td>\n      <td>...</td>\n      <td>...</td>\n      <td>...</td>\n      <td>...</td>\n    </tr>\n    <tr>\n      <th>7402</th>\n      <td>DIREITO PENAL</td>\n      <td>LEI DE DROGAS</td>\n      <td>5) Reconhecida a inconstitucionalidade da veda...</td>\n      <td>HC 266190 / SP\\nHABEAS CORPUS\\n2013/0066727-0</td>\n      <td>Relator(a)\\nMinistro NEFI CORDEIRO (1159)</td>\n      <td>T6 - SEXTA TURMA</td>\n      <td>25/08/2015</td>\n      <td>15/09/2015</td>\n      <td>PROCESSUAL  PENAL  E  PENAL.  HABEAS CORPUS. S...</td>\n    </tr>\n    <tr>\n      <th>7403</th>\n      <td>DIREITO PENAL</td>\n      <td>LEI DE DROGAS</td>\n      <td>5) Reconhecida a inconstitucionalidade da veda...</td>\n      <td>HC 327125 / SP\\nHABEAS CORPUS\\n2015/0140557-2</td>\n      <td>Relator(a)\\nMinistro REYNALDO SOARES DA FONSEC...</td>\n      <td>T5 - QUINTA TURMA</td>\n      <td>25/08/2015</td>\n      <td>01/09/2015</td>\n      <td>HABEAS CORPUS SUBSTITUTO DE RECURSO. INADEQUAÇ...</td>\n    </tr>\n    <tr>\n      <th>7404</th>\n      <td>DIREITO PENAL</td>\n      <td>LEI DE DROGAS</td>\n      <td>5) Reconhecida a inconstitucionalidade da veda...</td>\n      <td>HC 311010 / RS\\nHABEAS CORPUS\\n2014/0324066-4</td>\n      <td>Relator(a)\\nMinistro FELIX FISCHER (1109)</td>\n      <td>T5 - QUINTA TURMA</td>\n      <td>30/06/2015</td>\n      <td>17/08/2015</td>\n      <td>PENAL E PROCESSUAL PENAL. HABEAS CORPUS SUBSTI...</td>\n    </tr>\n    <tr>\n      <th>7405</th>\n      <td>DIREITO PENAL</td>\n      <td>LEI DE DROGAS</td>\n      <td>5) Reconhecida a inconstitucionalidade da veda...</td>\n      <td>HC 317402 / SP\\nHABEAS CORPUS\\n2015/0040964-5</td>\n      <td>Relator(a)\\nMinistro JORGE MUSSI (1138)</td>\n      <td>T5 - QUINTA TURMA</td>\n      <td>05/05/2015</td>\n      <td>14/05/2015</td>\n      <td>HABEAS CORPUS. IMPETRAÇÃO EM SUBSTITUIÇÃO AO R...</td>\n    </tr>\n    <tr>\n      <th>7406</th>\n      <td>DIREITO PENAL</td>\n      <td>LEI DE DROGAS</td>\n      <td>5) Reconhecida a inconstitucionalidade da veda...</td>\n      <td>HC 314207 / SP\\nHABEAS CORPUS\\n2015/0007505-4</td>\n      <td>Relator(a)\\nMinistra MARIA THEREZA DE ASSIS MO...</td>\n      <td>T6 - SEXTA TURMA</td>\n      <td>07/04/2015</td>\n      <td>13/04/2015</td>\n      <td>HABEAS CORPUS. TRÁFICO DE DROGAS. CONDENAÇÃO E...</td>\n    </tr>\n  </tbody>\n</table>\n<p>4902 rows × 9 columns</p>\n</div>"
     },
     "metadata": {},
     "execution_count": 163
    }
   ],
   "source": [
    "def replace_edicao(text):\n",
    "    s = re.sub(\"^EDIÇÃO N\\. \\d+:\", \"\", text).strip()\n",
    "    s = re.sub(\" - M{0,4}(CM|CD|D?C{0,3})(XC|XL|L?X{0,3})(IX|IV|V?I{0,3})$\",\"\", s)\n",
    "    s = re.sub(\" M{0,4}(CM|CD|D?C{0,3})(XC|XL|L?X{0,3})(IX|IV|V?I{0,3})$\",\"\", s)\n",
    "    \n",
    "    return s\n",
    "\n",
    "stj1.NATUREZA = stj1.NATUREZA.map(replace_edicao)\n",
    "stj1.to_csv('../datasets/jurisprudencias_stj_clean.csv', index=False)\n",
    "stj1"
   ]
  },
  {
   "source": [
    "Ao fazer um filtro mantendo apenas os precedentes de jurisprudências onde o total de precedentes é maior que 5, ficam <strong>4.902</strong> precedentes."
   ],
   "cell_type": "markdown",
   "metadata": {}
  },
  {
   "source": [
    "Levando em consideração que cada jurisprudência desse novo conjunto de dados terá no mínimo 5 precedentes, utilizando a fórmula de combinação 𝐶(𝑛,𝑟)=𝑛!/(𝑟!(𝑛−𝑟)!), onde n=10 e r=2, temos que para cada jurisprudência podemos gerar no mínimo 10 pares de precedentes sem repetição."
   ],
   "cell_type": "markdown",
   "metadata": {}
  },
  {
   "cell_type": "code",
   "execution_count": 164,
   "metadata": {},
   "outputs": [],
   "source": [
    "stj_sts_data = []"
   ]
  },
  {
   "cell_type": "code",
   "execution_count": 165,
   "metadata": {
    "tags": []
   },
   "outputs": [
    {
     "output_type": "stream",
     "name": "stdout",
     "text": [
      "Total de pares de precedentes da mesma Jurisprudência gerados:  14556\n"
     ]
    }
   ],
   "source": [
    "for group_name, tema_group in stj1.groupby('TEMA'):\n",
    "    pares = list(set(itertools.combinations(tema_group.EMENTA, 2)))\n",
    "    noise = np.random.normal(mu, sigma, len(pares))\n",
    "    scores = [4.5]*len(pares)+noise\n",
    "    for i, par in enumerate(pares):\n",
    "       stj_sts_data.append([par[0], par[1], scores[i], 4])\n",
    "\n",
    "precedentes_mesma_jurisprudencia = len(stj_sts_data)\n",
    "print('Total de pares de precedentes da mesma Jurisprudência gerados: ', precedentes_mesma_jurisprudencia)\n"
   ]
  },
  {
   "source": [
    "Agora preciso gerar também pares de precedentes que não são similares. Para isso posso usar a informação da Matéria de cada precedente, e gerar pares entre Matérias diferentes, o que garante que a similaridade entre os precedentes seja praticamente nula. Como os pares não similares gerados por essa abordagem será maior que a quantidade de pares da mesma jurisprudência gerados pelo passo anterior, uso a relação da quantidade de pares precedentes da mesma jurisprudência, e os pares de Matérias diferentes para manter um conjunto de dados balanceado."
   ],
   "cell_type": "markdown",
   "metadata": {}
  },
  {
   "cell_type": "code",
   "execution_count": 166,
   "metadata": {
    "tags": []
   },
   "outputs": [
    {
     "output_type": "stream",
     "name": "stdout",
     "text": [
      "Total de pares de diferentes Matérias:  21\n",
      "Total de pares a serem usados a partir de cada par de Matéria:  693\n",
      "Total de pares até o momento:  29109\n"
     ]
    }
   ],
   "source": [
    "#gero pares de matérias diferentes\n",
    "pares_materias = list(set(itertools.combinations(stj1.MATERIA.unique().tolist(), 2)))\n",
    "print('Total de pares de diferentes Matérias: ' , len(pares_materias))\n",
    "total_por_par_materias = int(precedentes_mesma_jurisprudencia/len(pares_materias))\n",
    "print('Total de pares a serem usados a partir de cada par de Matéria: ', total_por_par_materias)\n",
    "for materias_par in list(set(itertools.combinations(stj1.MATERIA.unique().tolist(), 2))):\n",
    "    #recupero as ementas das duas diferentes matérias\n",
    "    precedentes_materias = [stj1[stj1.MATERIA == materia].EMENTA.tolist() for materia in materias_par]\n",
    "    # gero um produto cartesiano entre as ementas das diferentes matérias\n",
    "    pares = list(itertools.product(*precedentes_materias))[:total_por_par_materias]\n",
    "    noise = np.random.normal(mu, sigma, len(pares))\n",
    "    scores = [0.5]*len(pares)+noise\n",
    "    for i, par in enumerate(pares):\n",
    "       stj_sts_data.append([par[0], par[1], scores[i], 0])\n",
    "print('Total de pares até o momento: ', len(stj_sts_data))"
   ]
  },
  {
   "cell_type": "code",
   "execution_count": 167,
   "metadata": {
    "tags": []
   },
   "outputs": [],
   "source": [
    "pares_natureza = []\n",
    "for group_name, natureza_group in stj1.groupby('NATUREZA'):\n",
    "    for temas_pares in list(set(itertools.combinations(natureza_group.TEMA.unique(), 2))):\n",
    "        precedentes_temas = [natureza_group[natureza_group.TEMA == tema].EMENTA.tolist() \n",
    "                                for tema in temas_pares]\n",
    "        pares = list(itertools.product(*precedentes_temas))\n",
    "        noise = np.random.normal(mu, sigma, len(pares))\n",
    "        scores = [3]*len(pares)+noise\n",
    "        for i, par in enumerate(pares):\n",
    "            pares_natureza.append([par[0], par[1], scores[i], 3])"
   ]
  },
  {
   "cell_type": "code",
   "execution_count": 168,
   "metadata": {},
   "outputs": [
    {
     "output_type": "stream",
     "name": "stdout",
     "text": [
      "Total de pares até o momento 43665\n"
     ]
    }
   ],
   "source": [
    "samples_pares_natureza = random.sample(pares_natureza, precedentes_mesma_jurisprudencia)\n",
    "stj_sts_data = stj_sts_data + samples_pares_natureza\n",
    "print('Total de pares até o momento', len(stj_sts_data))"
   ]
  },
  {
   "cell_type": "code",
   "execution_count": 169,
   "metadata": {},
   "outputs": [],
   "source": [
    "stj_sts_df = pd.DataFrame(stj_sts_data, columns=['sentence_A','sentence_B','score','range'])\n",
    "stj_sts_df = stj_sts_df.dropna()"
   ]
  },
  {
   "cell_type": "code",
   "execution_count": 170,
   "metadata": {},
   "outputs": [],
   "source": [
    "train, test = train_test_split(stj_sts_df, \n",
    "                            test_size=0.3, \n",
    "                            stratify=stj_sts_df.range,\n",
    "                            shuffle=True,\n",
    "                            random_state=42)\n",
    "test, valid = train_test_split(test, \n",
    "                            test_size=0.3, \n",
    "                            stratify=test.range,\n",
    "                            shuffle=True,\n",
    "                            random_state=42)"
   ]
  },
  {
   "cell_type": "code",
   "execution_count": 171,
   "metadata": {},
   "outputs": [],
   "source": [
    "stj_sts_df.loc[train.index.values,'SPLIT'] = 'TRAIN'\n",
    "stj_sts_df.loc[test.index.values,'SPLIT'] = 'TEST'\n",
    "stj_sts_df.loc[valid.index.values,'SPLIT'] = 'VALID'"
   ]
  },
  {
   "cell_type": "code",
   "execution_count": 172,
   "metadata": {},
   "outputs": [
    {
     "output_type": "stream",
     "name": "stdout",
     "text": [
      "                                              sentence_A  \\\n0      PROCESSUAL CIVIL E ADMINISTRATIVO. RECURSO ESP...   \n1      CONFLITO  NEGATIVO  DE COMPETÊNCIA. NOMEAÇÃO P...   \n2      PROCESSUAL CIVIL. ADMINISTRATIVO. CONCURSO PÚB...   \n3      PROCESSUAL CIVIL E ADMINISTRATIVO. RECURSO ESP...   \n4      AGRAVO REGIMENTAL. CONFLITO DE COMPETÊNCIA. CO...   \n...                                                  ...   \n43660  DIREITO EMPRESARIAL, TRIBUTÁRIO E ADMINISTRATI...   \n43661  PENAL. EXCEÇÃO DA VERDADE. CRIME DE IMPRENSA. ...   \n43662  AGRAVO REGIMENTAL NO AGRAVO EM RECURSO ESPECIA...   \n43663  PROCESSO CIVIL. IMPROBIDADE ADMINISTRATIVA. PE...   \n43664  CIVIL E PROCESSUAL CIVIL. BANCÁRIO. AGRAVO REG...   \n\n                                              sentence_B     score  range  \\\n0      AGRAVO REGIMENTAL. CONFLITO DE COMPETÊNCIA. CO...  4.676405      4   \n1      PROCESSUAL CIVIL E ADMINISTRATIVO. RECURSO ESP...  4.540016      4   \n2      AGRAVO REGIMENTAL. CONFLITO DE COMPETÊNCIA. CO...  4.597874      4   \n3      AGRAVO REGIMENTAL. CONFLITO DE COMPETÊNCIA. CO...  4.724089      4   \n4      AGRAVO REGIMENTAL. CONFLITO DE COMPETÊNCIA. CO...  4.686756      4   \n...                                                  ...       ...    ...   \n43660  CONFLITO DE COMPETÊNCIA. JUÍZO DO TRABALHO E J...  3.135182      3   \n43661  RECURSO  ESPECIAL  -  CIVIL E PROCESSUAL CIVIL...  3.172118      3   \n43662  AGRAVO REGIMENTAL NO AGRAVO EM RECURSO ESPECIA...  2.965670      3   \n43663  ADMINISTRATIVO. AGRAVO REGIMENTAL NOS EMBARGOS...  3.074784      3   \n43664  AGRAVO REGIMENTAL NO AGRAVO EM RECURSO ESPECIA...  2.969805      3   \n\n       SPLIT  \n0      TRAIN  \n1      TRAIN  \n2       TEST  \n3       TEST  \n4      TRAIN  \n...      ...  \n43660  TRAIN  \n43661  TRAIN  \n43662   TEST  \n43663  VALID  \n43664  TRAIN  \n\n[43665 rows x 5 columns]\n"
     ]
    }
   ],
   "source": [
    "print(stj_sts_df)\n",
    "stj_sts_df.to_csv('../datasets/stj_sts.csv', index=False)"
   ]
  },
  {
   "source": [
    "# Análise de dados dos precedentes do TCU"
   ],
   "cell_type": "markdown",
   "metadata": {}
  },
  {
   "cell_type": "code",
   "execution_count": 173,
   "metadata": {},
   "outputs": [
    {
     "output_type": "stream",
     "name": "stdout",
     "text": [
      "Index(['AREA', 'TEMA', 'SUBTEMA', 'ENUNCIADO', 'PROCESSO', 'ANO',\n       'TIPO_PROCESSO', 'RELATOR', 'VOTO'],\n      dtype='object')\nTotal de precedentes extraídos:  441\nTotal de Jurisprudências:  44\nÁreas: ['Responsabilidade' 'Licitação' 'Direito Processual' 'Pessoal']\nTotal de Temas:  27\nTotal de Subtemas:  38\n\nHistograma precedentes por Jurisprudência: \n"
     ]
    },
    {
     "output_type": "execute_result",
     "data": {
      "text/plain": [
       "<matplotlib.axes._subplots.AxesSubplot at 0x7fcdd24d2fa0>"
      ]
     },
     "metadata": {},
     "execution_count": 173
    },
    {
     "output_type": "display_data",
     "data": {
      "text/plain": "<Figure size 432x288 with 1 Axes>",
      "image/svg+xml": "<?xml version=\"1.0\" encoding=\"utf-8\" standalone=\"no\"?>\n<!DOCTYPE svg PUBLIC \"-//W3C//DTD SVG 1.1//EN\"\n  \"http://www.w3.org/Graphics/SVG/1.1/DTD/svg11.dtd\">\n<!-- Created with matplotlib (https://matplotlib.org/) -->\n<svg height=\"248.518125pt\" version=\"1.1\" viewBox=\"0 0 368.925 248.518125\" width=\"368.925pt\" xmlns=\"http://www.w3.org/2000/svg\" xmlns:xlink=\"http://www.w3.org/1999/xlink\">\n <defs>\n  <style type=\"text/css\">\n*{stroke-linecap:butt;stroke-linejoin:round;}\n  </style>\n </defs>\n <g id=\"figure_1\">\n  <g id=\"patch_1\">\n   <path d=\"M -0 248.518125 \nL 368.925 248.518125 \nL 368.925 0 \nL -0 0 \nz\n\" style=\"fill:none;\"/>\n  </g>\n  <g id=\"axes_1\">\n   <g id=\"patch_2\">\n    <path d=\"M 26.925 224.64 \nL 361.725 224.64 \nL 361.725 7.2 \nL 26.925 7.2 \nz\n\" style=\"fill:#ffffff;\"/>\n   </g>\n   <g id=\"patch_3\">\n    <path clip-path=\"url(#pc47808af9c)\" d=\"M 42.143182 224.64 \nL 72.579545 224.64 \nL 72.579545 208.71033 \nL 42.143182 208.71033 \nz\n\" style=\"fill:#1f77b4;\"/>\n   </g>\n   <g id=\"patch_4\">\n    <path clip-path=\"url(#pc47808af9c)\" d=\"M 72.579545 224.64 \nL 103.015909 224.64 \nL 103.015909 17.554286 \nL 72.579545 17.554286 \nz\n\" style=\"fill:#1f77b4;\"/>\n   </g>\n   <g id=\"patch_5\">\n    <path clip-path=\"url(#pc47808af9c)\" d=\"M 103.015909 224.64 \nL 133.452273 224.64 \nL 133.452273 113.132308 \nL 103.015909 113.132308 \nz\n\" style=\"fill:#1f77b4;\"/>\n   </g>\n   <g id=\"patch_6\">\n    <path clip-path=\"url(#pc47808af9c)\" d=\"M 133.452273 224.64 \nL 163.888636 224.64 \nL 163.888636 129.061978 \nL 133.452273 129.061978 \nz\n\" style=\"fill:#1f77b4;\"/>\n   </g>\n   <g id=\"patch_7\">\n    <path clip-path=\"url(#pc47808af9c)\" d=\"M 163.888636 224.64 \nL 194.325 224.64 \nL 194.325 113.132308 \nL 163.888636 113.132308 \nz\n\" style=\"fill:#1f77b4;\"/>\n   </g>\n   <g id=\"patch_8\">\n    <path clip-path=\"url(#pc47808af9c)\" d=\"M 194.325 224.64 \nL 224.761364 224.64 \nL 224.761364 160.921319 \nL 194.325 160.921319 \nz\n\" style=\"fill:#1f77b4;\"/>\n   </g>\n   <g id=\"patch_9\">\n    <path clip-path=\"url(#pc47808af9c)\" d=\"M 224.761364 224.64 \nL 255.197727 224.64 \nL 255.197727 208.71033 \nL 224.761364 208.71033 \nz\n\" style=\"fill:#1f77b4;\"/>\n   </g>\n   <g id=\"patch_10\">\n    <path clip-path=\"url(#pc47808af9c)\" d=\"M 255.197727 224.64 \nL 285.634091 224.64 \nL 285.634091 176.850989 \nL 255.197727 176.850989 \nz\n\" style=\"fill:#1f77b4;\"/>\n   </g>\n   <g id=\"patch_11\">\n    <path clip-path=\"url(#pc47808af9c)\" d=\"M 285.634091 224.64 \nL 316.070455 224.64 \nL 316.070455 208.71033 \nL 285.634091 208.71033 \nz\n\" style=\"fill:#1f77b4;\"/>\n   </g>\n   <g id=\"patch_12\">\n    <path clip-path=\"url(#pc47808af9c)\" d=\"M 316.070455 224.64 \nL 346.506818 224.64 \nL 346.506818 208.71033 \nL 316.070455 208.71033 \nz\n\" style=\"fill:#1f77b4;\"/>\n   </g>\n   <g id=\"matplotlib.axis_1\">\n    <g id=\"xtick_1\">\n     <g id=\"line2d_1\">\n      <path clip-path=\"url(#pc47808af9c)\" d=\"M 60.046925 224.64 \nL 60.046925 7.2 \n\" style=\"fill:none;stroke:#b0b0b0;stroke-linecap:square;stroke-width:0.8;\"/>\n     </g>\n     <g id=\"line2d_2\">\n      <defs>\n       <path d=\"M 0 0 \nL 0 3.5 \n\" id=\"m091ccf5804\" style=\"stroke:#000000;stroke-width:0.8;\"/>\n      </defs>\n      <g>\n       <use style=\"stroke:#000000;stroke-width:0.8;\" x=\"60.046925\" xlink:href=\"#m091ccf5804\" y=\"224.64\"/>\n      </g>\n     </g>\n     <g id=\"text_1\">\n      <!-- 5.0 -->\n      <defs>\n       <path d=\"M 10.796875 72.90625 \nL 49.515625 72.90625 \nL 49.515625 64.59375 \nL 19.828125 64.59375 \nL 19.828125 46.734375 \nQ 21.96875 47.46875 24.109375 47.828125 \nQ 26.265625 48.1875 28.421875 48.1875 \nQ 40.625 48.1875 47.75 41.5 \nQ 54.890625 34.8125 54.890625 23.390625 \nQ 54.890625 11.625 47.5625 5.09375 \nQ 40.234375 -1.421875 26.90625 -1.421875 \nQ 22.3125 -1.421875 17.546875 -0.640625 \nQ 12.796875 0.140625 7.71875 1.703125 \nL 7.71875 11.625 \nQ 12.109375 9.234375 16.796875 8.0625 \nQ 21.484375 6.890625 26.703125 6.890625 \nQ 35.15625 6.890625 40.078125 11.328125 \nQ 45.015625 15.765625 45.015625 23.390625 \nQ 45.015625 31 40.078125 35.4375 \nQ 35.15625 39.890625 26.703125 39.890625 \nQ 22.75 39.890625 18.8125 39.015625 \nQ 14.890625 38.140625 10.796875 36.28125 \nz\n\" id=\"DejaVuSans-53\"/>\n       <path d=\"M 10.6875 12.40625 \nL 21 12.40625 \nL 21 0 \nL 10.6875 0 \nz\n\" id=\"DejaVuSans-46\"/>\n       <path d=\"M 31.78125 66.40625 \nQ 24.171875 66.40625 20.328125 58.90625 \nQ 16.5 51.421875 16.5 36.375 \nQ 16.5 21.390625 20.328125 13.890625 \nQ 24.171875 6.390625 31.78125 6.390625 \nQ 39.453125 6.390625 43.28125 13.890625 \nQ 47.125 21.390625 47.125 36.375 \nQ 47.125 51.421875 43.28125 58.90625 \nQ 39.453125 66.40625 31.78125 66.40625 \nz\nM 31.78125 74.21875 \nQ 44.046875 74.21875 50.515625 64.515625 \nQ 56.984375 54.828125 56.984375 36.375 \nQ 56.984375 17.96875 50.515625 8.265625 \nQ 44.046875 -1.421875 31.78125 -1.421875 \nQ 19.53125 -1.421875 13.0625 8.265625 \nQ 6.59375 17.96875 6.59375 36.375 \nQ 6.59375 54.828125 13.0625 64.515625 \nQ 19.53125 74.21875 31.78125 74.21875 \nz\n\" id=\"DejaVuSans-48\"/>\n      </defs>\n      <g transform=\"translate(52.095363 239.238437)scale(0.1 -0.1)\">\n       <use xlink:href=\"#DejaVuSans-53\"/>\n       <use x=\"63.623047\" xlink:href=\"#DejaVuSans-46\"/>\n       <use x=\"95.410156\" xlink:href=\"#DejaVuSans-48\"/>\n      </g>\n     </g>\n    </g>\n    <g id=\"xtick_2\">\n     <g id=\"line2d_3\">\n      <path clip-path=\"url(#pc47808af9c)\" d=\"M 104.806283 224.64 \nL 104.806283 7.2 \n\" style=\"fill:none;stroke:#b0b0b0;stroke-linecap:square;stroke-width:0.8;\"/>\n     </g>\n     <g id=\"line2d_4\">\n      <g>\n       <use style=\"stroke:#000000;stroke-width:0.8;\" x=\"104.806283\" xlink:href=\"#m091ccf5804\" y=\"224.64\"/>\n      </g>\n     </g>\n     <g id=\"text_2\">\n      <!-- 7.5 -->\n      <defs>\n       <path d=\"M 8.203125 72.90625 \nL 55.078125 72.90625 \nL 55.078125 68.703125 \nL 28.609375 0 \nL 18.3125 0 \nL 43.21875 64.59375 \nL 8.203125 64.59375 \nz\n\" id=\"DejaVuSans-55\"/>\n      </defs>\n      <g transform=\"translate(96.854721 239.238437)scale(0.1 -0.1)\">\n       <use xlink:href=\"#DejaVuSans-55\"/>\n       <use x=\"63.623047\" xlink:href=\"#DejaVuSans-46\"/>\n       <use x=\"95.410156\" xlink:href=\"#DejaVuSans-53\"/>\n      </g>\n     </g>\n    </g>\n    <g id=\"xtick_3\">\n     <g id=\"line2d_5\">\n      <path clip-path=\"url(#pc47808af9c)\" d=\"M 149.565642 224.64 \nL 149.565642 7.2 \n\" style=\"fill:none;stroke:#b0b0b0;stroke-linecap:square;stroke-width:0.8;\"/>\n     </g>\n     <g id=\"line2d_6\">\n      <g>\n       <use style=\"stroke:#000000;stroke-width:0.8;\" x=\"149.565642\" xlink:href=\"#m091ccf5804\" y=\"224.64\"/>\n      </g>\n     </g>\n     <g id=\"text_3\">\n      <!-- 10.0 -->\n      <defs>\n       <path d=\"M 12.40625 8.296875 \nL 28.515625 8.296875 \nL 28.515625 63.921875 \nL 10.984375 60.40625 \nL 10.984375 69.390625 \nL 28.421875 72.90625 \nL 38.28125 72.90625 \nL 38.28125 8.296875 \nL 54.390625 8.296875 \nL 54.390625 0 \nL 12.40625 0 \nz\n\" id=\"DejaVuSans-49\"/>\n      </defs>\n      <g transform=\"translate(138.432829 239.238437)scale(0.1 -0.1)\">\n       <use xlink:href=\"#DejaVuSans-49\"/>\n       <use x=\"63.623047\" xlink:href=\"#DejaVuSans-48\"/>\n       <use x=\"127.246094\" xlink:href=\"#DejaVuSans-46\"/>\n       <use x=\"159.033203\" xlink:href=\"#DejaVuSans-48\"/>\n      </g>\n     </g>\n    </g>\n    <g id=\"xtick_4\">\n     <g id=\"line2d_7\">\n      <path clip-path=\"url(#pc47808af9c)\" d=\"M 194.325 224.64 \nL 194.325 7.2 \n\" style=\"fill:none;stroke:#b0b0b0;stroke-linecap:square;stroke-width:0.8;\"/>\n     </g>\n     <g id=\"line2d_8\">\n      <g>\n       <use style=\"stroke:#000000;stroke-width:0.8;\" x=\"194.325\" xlink:href=\"#m091ccf5804\" y=\"224.64\"/>\n      </g>\n     </g>\n     <g id=\"text_4\">\n      <!-- 12.5 -->\n      <defs>\n       <path d=\"M 19.1875 8.296875 \nL 53.609375 8.296875 \nL 53.609375 0 \nL 7.328125 0 \nL 7.328125 8.296875 \nQ 12.9375 14.109375 22.625 23.890625 \nQ 32.328125 33.6875 34.8125 36.53125 \nQ 39.546875 41.84375 41.421875 45.53125 \nQ 43.3125 49.21875 43.3125 52.78125 \nQ 43.3125 58.59375 39.234375 62.25 \nQ 35.15625 65.921875 28.609375 65.921875 \nQ 23.96875 65.921875 18.8125 64.3125 \nQ 13.671875 62.703125 7.8125 59.421875 \nL 7.8125 69.390625 \nQ 13.765625 71.78125 18.9375 73 \nQ 24.125 74.21875 28.421875 74.21875 \nQ 39.75 74.21875 46.484375 68.546875 \nQ 53.21875 62.890625 53.21875 53.421875 \nQ 53.21875 48.921875 51.53125 44.890625 \nQ 49.859375 40.875 45.40625 35.40625 \nQ 44.1875 33.984375 37.640625 27.21875 \nQ 31.109375 20.453125 19.1875 8.296875 \nz\n\" id=\"DejaVuSans-50\"/>\n      </defs>\n      <g transform=\"translate(183.192187 239.238437)scale(0.1 -0.1)\">\n       <use xlink:href=\"#DejaVuSans-49\"/>\n       <use x=\"63.623047\" xlink:href=\"#DejaVuSans-50\"/>\n       <use x=\"127.246094\" xlink:href=\"#DejaVuSans-46\"/>\n       <use x=\"159.033203\" xlink:href=\"#DejaVuSans-53\"/>\n      </g>\n     </g>\n    </g>\n    <g id=\"xtick_5\">\n     <g id=\"line2d_9\">\n      <path clip-path=\"url(#pc47808af9c)\" d=\"M 239.084358 224.64 \nL 239.084358 7.2 \n\" style=\"fill:none;stroke:#b0b0b0;stroke-linecap:square;stroke-width:0.8;\"/>\n     </g>\n     <g id=\"line2d_10\">\n      <g>\n       <use style=\"stroke:#000000;stroke-width:0.8;\" x=\"239.084358\" xlink:href=\"#m091ccf5804\" y=\"224.64\"/>\n      </g>\n     </g>\n     <g id=\"text_5\">\n      <!-- 15.0 -->\n      <g transform=\"translate(227.951546 239.238437)scale(0.1 -0.1)\">\n       <use xlink:href=\"#DejaVuSans-49\"/>\n       <use x=\"63.623047\" xlink:href=\"#DejaVuSans-53\"/>\n       <use x=\"127.246094\" xlink:href=\"#DejaVuSans-46\"/>\n       <use x=\"159.033203\" xlink:href=\"#DejaVuSans-48\"/>\n      </g>\n     </g>\n    </g>\n    <g id=\"xtick_6\">\n     <g id=\"line2d_11\">\n      <path clip-path=\"url(#pc47808af9c)\" d=\"M 283.843717 224.64 \nL 283.843717 7.2 \n\" style=\"fill:none;stroke:#b0b0b0;stroke-linecap:square;stroke-width:0.8;\"/>\n     </g>\n     <g id=\"line2d_12\">\n      <g>\n       <use style=\"stroke:#000000;stroke-width:0.8;\" x=\"283.843717\" xlink:href=\"#m091ccf5804\" y=\"224.64\"/>\n      </g>\n     </g>\n     <g id=\"text_6\">\n      <!-- 17.5 -->\n      <g transform=\"translate(272.710904 239.238437)scale(0.1 -0.1)\">\n       <use xlink:href=\"#DejaVuSans-49\"/>\n       <use x=\"63.623047\" xlink:href=\"#DejaVuSans-55\"/>\n       <use x=\"127.246094\" xlink:href=\"#DejaVuSans-46\"/>\n       <use x=\"159.033203\" xlink:href=\"#DejaVuSans-53\"/>\n      </g>\n     </g>\n    </g>\n    <g id=\"xtick_7\">\n     <g id=\"line2d_13\">\n      <path clip-path=\"url(#pc47808af9c)\" d=\"M 328.603075 224.64 \nL 328.603075 7.2 \n\" style=\"fill:none;stroke:#b0b0b0;stroke-linecap:square;stroke-width:0.8;\"/>\n     </g>\n     <g id=\"line2d_14\">\n      <g>\n       <use style=\"stroke:#000000;stroke-width:0.8;\" x=\"328.603075\" xlink:href=\"#m091ccf5804\" y=\"224.64\"/>\n      </g>\n     </g>\n     <g id=\"text_7\">\n      <!-- 20.0 -->\n      <g transform=\"translate(317.470262 239.238437)scale(0.1 -0.1)\">\n       <use xlink:href=\"#DejaVuSans-50\"/>\n       <use x=\"63.623047\" xlink:href=\"#DejaVuSans-48\"/>\n       <use x=\"127.246094\" xlink:href=\"#DejaVuSans-46\"/>\n       <use x=\"159.033203\" xlink:href=\"#DejaVuSans-48\"/>\n      </g>\n     </g>\n    </g>\n   </g>\n   <g id=\"matplotlib.axis_2\">\n    <g id=\"ytick_1\">\n     <g id=\"line2d_15\">\n      <path clip-path=\"url(#pc47808af9c)\" d=\"M 26.925 224.64 \nL 361.725 224.64 \n\" style=\"fill:none;stroke:#b0b0b0;stroke-linecap:square;stroke-width:0.8;\"/>\n     </g>\n     <g id=\"line2d_16\">\n      <defs>\n       <path d=\"M 0 0 \nL -3.5 0 \n\" id=\"m0f6f9340da\" style=\"stroke:#000000;stroke-width:0.8;\"/>\n      </defs>\n      <g>\n       <use style=\"stroke:#000000;stroke-width:0.8;\" x=\"26.925\" xlink:href=\"#m0f6f9340da\" y=\"224.64\"/>\n      </g>\n     </g>\n     <g id=\"text_8\">\n      <!-- 0 -->\n      <g transform=\"translate(13.5625 228.439219)scale(0.1 -0.1)\">\n       <use xlink:href=\"#DejaVuSans-48\"/>\n      </g>\n     </g>\n    </g>\n    <g id=\"ytick_2\">\n     <g id=\"line2d_17\">\n      <path clip-path=\"url(#pc47808af9c)\" d=\"M 26.925 192.780659 \nL 361.725 192.780659 \n\" style=\"fill:none;stroke:#b0b0b0;stroke-linecap:square;stroke-width:0.8;\"/>\n     </g>\n     <g id=\"line2d_18\">\n      <g>\n       <use style=\"stroke:#000000;stroke-width:0.8;\" x=\"26.925\" xlink:href=\"#m0f6f9340da\" y=\"192.780659\"/>\n      </g>\n     </g>\n     <g id=\"text_9\">\n      <!-- 2 -->\n      <g transform=\"translate(13.5625 196.579878)scale(0.1 -0.1)\">\n       <use xlink:href=\"#DejaVuSans-50\"/>\n      </g>\n     </g>\n    </g>\n    <g id=\"ytick_3\">\n     <g id=\"line2d_19\">\n      <path clip-path=\"url(#pc47808af9c)\" d=\"M 26.925 160.921319 \nL 361.725 160.921319 \n\" style=\"fill:none;stroke:#b0b0b0;stroke-linecap:square;stroke-width:0.8;\"/>\n     </g>\n     <g id=\"line2d_20\">\n      <g>\n       <use style=\"stroke:#000000;stroke-width:0.8;\" x=\"26.925\" xlink:href=\"#m0f6f9340da\" y=\"160.921319\"/>\n      </g>\n     </g>\n     <g id=\"text_10\">\n      <!-- 4 -->\n      <defs>\n       <path d=\"M 37.796875 64.3125 \nL 12.890625 25.390625 \nL 37.796875 25.390625 \nz\nM 35.203125 72.90625 \nL 47.609375 72.90625 \nL 47.609375 25.390625 \nL 58.015625 25.390625 \nL 58.015625 17.1875 \nL 47.609375 17.1875 \nL 47.609375 0 \nL 37.796875 0 \nL 37.796875 17.1875 \nL 4.890625 17.1875 \nL 4.890625 26.703125 \nz\n\" id=\"DejaVuSans-52\"/>\n      </defs>\n      <g transform=\"translate(13.5625 164.720537)scale(0.1 -0.1)\">\n       <use xlink:href=\"#DejaVuSans-52\"/>\n      </g>\n     </g>\n    </g>\n    <g id=\"ytick_4\">\n     <g id=\"line2d_21\">\n      <path clip-path=\"url(#pc47808af9c)\" d=\"M 26.925 129.061978 \nL 361.725 129.061978 \n\" style=\"fill:none;stroke:#b0b0b0;stroke-linecap:square;stroke-width:0.8;\"/>\n     </g>\n     <g id=\"line2d_22\">\n      <g>\n       <use style=\"stroke:#000000;stroke-width:0.8;\" x=\"26.925\" xlink:href=\"#m0f6f9340da\" y=\"129.061978\"/>\n      </g>\n     </g>\n     <g id=\"text_11\">\n      <!-- 6 -->\n      <defs>\n       <path d=\"M 33.015625 40.375 \nQ 26.375 40.375 22.484375 35.828125 \nQ 18.609375 31.296875 18.609375 23.390625 \nQ 18.609375 15.53125 22.484375 10.953125 \nQ 26.375 6.390625 33.015625 6.390625 \nQ 39.65625 6.390625 43.53125 10.953125 \nQ 47.40625 15.53125 47.40625 23.390625 \nQ 47.40625 31.296875 43.53125 35.828125 \nQ 39.65625 40.375 33.015625 40.375 \nz\nM 52.59375 71.296875 \nL 52.59375 62.3125 \nQ 48.875 64.0625 45.09375 64.984375 \nQ 41.3125 65.921875 37.59375 65.921875 \nQ 27.828125 65.921875 22.671875 59.328125 \nQ 17.53125 52.734375 16.796875 39.40625 \nQ 19.671875 43.65625 24.015625 45.921875 \nQ 28.375 48.1875 33.59375 48.1875 \nQ 44.578125 48.1875 50.953125 41.515625 \nQ 57.328125 34.859375 57.328125 23.390625 \nQ 57.328125 12.15625 50.6875 5.359375 \nQ 44.046875 -1.421875 33.015625 -1.421875 \nQ 20.359375 -1.421875 13.671875 8.265625 \nQ 6.984375 17.96875 6.984375 36.375 \nQ 6.984375 53.65625 15.1875 63.9375 \nQ 23.390625 74.21875 37.203125 74.21875 \nQ 40.921875 74.21875 44.703125 73.484375 \nQ 48.484375 72.75 52.59375 71.296875 \nz\n\" id=\"DejaVuSans-54\"/>\n      </defs>\n      <g transform=\"translate(13.5625 132.861197)scale(0.1 -0.1)\">\n       <use xlink:href=\"#DejaVuSans-54\"/>\n      </g>\n     </g>\n    </g>\n    <g id=\"ytick_5\">\n     <g id=\"line2d_23\">\n      <path clip-path=\"url(#pc47808af9c)\" d=\"M 26.925 97.202637 \nL 361.725 97.202637 \n\" style=\"fill:none;stroke:#b0b0b0;stroke-linecap:square;stroke-width:0.8;\"/>\n     </g>\n     <g id=\"line2d_24\">\n      <g>\n       <use style=\"stroke:#000000;stroke-width:0.8;\" x=\"26.925\" xlink:href=\"#m0f6f9340da\" y=\"97.202637\"/>\n      </g>\n     </g>\n     <g id=\"text_12\">\n      <!-- 8 -->\n      <defs>\n       <path d=\"M 31.78125 34.625 \nQ 24.75 34.625 20.71875 30.859375 \nQ 16.703125 27.09375 16.703125 20.515625 \nQ 16.703125 13.921875 20.71875 10.15625 \nQ 24.75 6.390625 31.78125 6.390625 \nQ 38.8125 6.390625 42.859375 10.171875 \nQ 46.921875 13.96875 46.921875 20.515625 \nQ 46.921875 27.09375 42.890625 30.859375 \nQ 38.875 34.625 31.78125 34.625 \nz\nM 21.921875 38.8125 \nQ 15.578125 40.375 12.03125 44.71875 \nQ 8.5 49.078125 8.5 55.328125 \nQ 8.5 64.0625 14.71875 69.140625 \nQ 20.953125 74.21875 31.78125 74.21875 \nQ 42.671875 74.21875 48.875 69.140625 \nQ 55.078125 64.0625 55.078125 55.328125 \nQ 55.078125 49.078125 51.53125 44.71875 \nQ 48 40.375 41.703125 38.8125 \nQ 48.828125 37.15625 52.796875 32.3125 \nQ 56.78125 27.484375 56.78125 20.515625 \nQ 56.78125 9.90625 50.3125 4.234375 \nQ 43.84375 -1.421875 31.78125 -1.421875 \nQ 19.734375 -1.421875 13.25 4.234375 \nQ 6.78125 9.90625 6.78125 20.515625 \nQ 6.78125 27.484375 10.78125 32.3125 \nQ 14.796875 37.15625 21.921875 38.8125 \nz\nM 18.3125 54.390625 \nQ 18.3125 48.734375 21.84375 45.5625 \nQ 25.390625 42.390625 31.78125 42.390625 \nQ 38.140625 42.390625 41.71875 45.5625 \nQ 45.3125 48.734375 45.3125 54.390625 \nQ 45.3125 60.0625 41.71875 63.234375 \nQ 38.140625 66.40625 31.78125 66.40625 \nQ 25.390625 66.40625 21.84375 63.234375 \nQ 18.3125 60.0625 18.3125 54.390625 \nz\n\" id=\"DejaVuSans-56\"/>\n      </defs>\n      <g transform=\"translate(13.5625 101.001856)scale(0.1 -0.1)\">\n       <use xlink:href=\"#DejaVuSans-56\"/>\n      </g>\n     </g>\n    </g>\n    <g id=\"ytick_6\">\n     <g id=\"line2d_25\">\n      <path clip-path=\"url(#pc47808af9c)\" d=\"M 26.925 65.343297 \nL 361.725 65.343297 \n\" style=\"fill:none;stroke:#b0b0b0;stroke-linecap:square;stroke-width:0.8;\"/>\n     </g>\n     <g id=\"line2d_26\">\n      <g>\n       <use style=\"stroke:#000000;stroke-width:0.8;\" x=\"26.925\" xlink:href=\"#m0f6f9340da\" y=\"65.343297\"/>\n      </g>\n     </g>\n     <g id=\"text_13\">\n      <!-- 10 -->\n      <g transform=\"translate(7.2 69.142515)scale(0.1 -0.1)\">\n       <use xlink:href=\"#DejaVuSans-49\"/>\n       <use x=\"63.623047\" xlink:href=\"#DejaVuSans-48\"/>\n      </g>\n     </g>\n    </g>\n    <g id=\"ytick_7\">\n     <g id=\"line2d_27\">\n      <path clip-path=\"url(#pc47808af9c)\" d=\"M 26.925 33.483956 \nL 361.725 33.483956 \n\" style=\"fill:none;stroke:#b0b0b0;stroke-linecap:square;stroke-width:0.8;\"/>\n     </g>\n     <g id=\"line2d_28\">\n      <g>\n       <use style=\"stroke:#000000;stroke-width:0.8;\" x=\"26.925\" xlink:href=\"#m0f6f9340da\" y=\"33.483956\"/>\n      </g>\n     </g>\n     <g id=\"text_14\">\n      <!-- 12 -->\n      <g transform=\"translate(7.2 37.283175)scale(0.1 -0.1)\">\n       <use xlink:href=\"#DejaVuSans-49\"/>\n       <use x=\"63.623047\" xlink:href=\"#DejaVuSans-50\"/>\n      </g>\n     </g>\n    </g>\n   </g>\n   <g id=\"patch_13\">\n    <path d=\"M 26.925 224.64 \nL 26.925 7.2 \n\" style=\"fill:none;stroke:#000000;stroke-linecap:square;stroke-linejoin:miter;stroke-width:0.8;\"/>\n   </g>\n   <g id=\"patch_14\">\n    <path d=\"M 361.725 224.64 \nL 361.725 7.2 \n\" style=\"fill:none;stroke:#000000;stroke-linecap:square;stroke-linejoin:miter;stroke-width:0.8;\"/>\n   </g>\n   <g id=\"patch_15\">\n    <path d=\"M 26.925 224.64 \nL 361.725 224.64 \n\" style=\"fill:none;stroke:#000000;stroke-linecap:square;stroke-linejoin:miter;stroke-width:0.8;\"/>\n   </g>\n   <g id=\"patch_16\">\n    <path d=\"M 26.925 7.2 \nL 361.725 7.2 \n\" style=\"fill:none;stroke:#000000;stroke-linecap:square;stroke-linejoin:miter;stroke-width:0.8;\"/>\n   </g>\n  </g>\n </g>\n <defs>\n  <clipPath id=\"pc47808af9c\">\n   <rect height=\"217.44\" width=\"334.8\" x=\"26.925\" y=\"7.2\"/>\n  </clipPath>\n </defs>\n</svg>\n",
      "image/png": "[encoded data removed]"
     },
     "metadata": {
      "needs_background": "light"
     }
    }
   ],
   "source": [
    "tcu = pd.read_csv('../datasets/jurisprudencias_tcu.csv', index_col=0)\n",
    "print(tcu.columns)\n",
    "print('Total de precedentes extraídos: ', len(tcu))\n",
    "print('Total de Jurisprudências: ', len(tcu.ENUNCIADO.unique()))\n",
    "print('Áreas: '+str(tcu.AREA.unique()))\n",
    "print('Total de Temas: ', len(tcu.TEMA.unique()))\n",
    "print('Total de Subtemas: ', len(tcu.SUBTEMA.unique()))\n",
    "\n",
    "print('\\nHistograma precedentes por Jurisprudência: ')\n",
    "tcu.ENUNCIADO.value_counts().hist()"
   ]
  },
  {
   "cell_type": "code",
   "execution_count": 174,
   "metadata": {},
   "outputs": [
    {
     "output_type": "stream",
     "name": "stdout",
     "text": [
      "Adicional por tempo de serviço\n['Gratificação bienal']\nAposentadoria por invalidez\n['Capacidade laboral']\nAposentadoria proporcional\n['Proventos']\nAto sujeito a registro\n['Ato complexo' 'Princípio da ampla defesa']\nBens e serviços de informática\n['Medição']\nCadastramento\n['Sicaf']\nConselho de fiscalização profissional\n['Admissão de pessoal']\nConvênio\n['Gestor sucessor' 'Entidade de direito privado']\nCooperativa\n['Vedação']\nDispensa de licitação\n['Concurso público' 'Empresa controlada' 'Entidade sem fins lucrativos']\nDébito\n['Imprescritibilidade']\nEdital de licitação\n['Marca']\nHabilitação de licitante\n['Documentação' 'Exigência']\nInexigibilidade de licitação\n['Serviço técnico especializado' 'Fornecedor exclusivo']\nObras e serviços de engenharia\n['Preço' 'Orçamento estimativo' 'BDI']\nOrçamento estimativo\n['BDI']\nPensão civil\n['Filha maior solteira' 'Legislação' 'Invalidez']\nPregão\n['Obras e serviços de engenharia']\nPrincípio da ampla defesa\n['Reiteração']\nProjeto básico\n['Obras e serviços de engenharia' 'Autor']\nProposta\n['Preço']\nQualificação econômico-financeira\n['Índice contábil' 'Garantia da proposta']\nQualificação técnica\n['Exigência']\nQuintos\n['Gratificação de atividade pelo desempenho de função']\nRemuneração\n['Decisão judicial' 'Direito adquirido']\nRessarcimento administrativo\n['Dispensa']\nTempo de serviço\n['Tempo de inatividade' 'Trabalho rural' 'Estagiário']\n"
     ]
    }
   ],
   "source": [
    "for group_name, df_group in tcu.groupby('TEMA'):\n",
    "    print(group_name)\n",
    "    print(df_group.SUBTEMA.unique())"
   ]
  },
  {
   "source": [
    "Gero pares de uma mesma Jurisprudência"
   ],
   "cell_type": "markdown",
   "metadata": {}
  },
  {
   "cell_type": "code",
   "execution_count": 175,
   "metadata": {},
   "outputs": [
    {
     "output_type": "stream",
     "name": "stdout",
     "text": [
      "Total de pares de precedentes da mesma Jurisprudência gerados:  1997\n"
     ]
    }
   ],
   "source": [
    "tcu_sts_data = []\n",
    "for group_name, jurisprudencia_group in tcu.groupby('ENUNCIADO'):\n",
    "    pares = list(set(itertools.combinations(jurisprudencia_group.VOTO, 2)))\n",
    "    noise = np.random.normal(mu, sigma, len(pares))\n",
    "    scores = [4.5]*len(pares)+noise\n",
    "    for i, par in enumerate(pares):\n",
    "       tcu_sts_data.append([par[0], par[1], scores[i], 4])\n",
    "\n",
    "precedentes_mesma_jurisprudencia = len(tcu_sts_data)\n",
    "print('Total de pares de precedentes da mesma Jurisprudência gerados: ', precedentes_mesma_jurisprudencia)"
   ]
  },
  {
   "source": [
    "Gero pares de Áreas diferentes, então a similaridade é praticamente nula"
   ],
   "cell_type": "markdown",
   "metadata": {}
  },
  {
   "cell_type": "code",
   "execution_count": 176,
   "metadata": {},
   "outputs": [
    {
     "output_type": "stream",
     "name": "stdout",
     "text": [
      "Total de pares de diferentes Áreas:  6\nTotal de pares a serem usados a partir de cada par de Matéria:  332\nTotal de pares até o momento:  3989\n"
     ]
    }
   ],
   "source": [
    "pares_areas = list(set(itertools.combinations(tcu.AREA.unique().tolist(), 2)))\n",
    "print('Total de pares de diferentes Áreas: ' , len(pares_areas))\n",
    "total_por_par_areas = int(precedentes_mesma_jurisprudencia/len(pares_areas))\n",
    "print('Total de pares a serem usados a partir de cada par de Matéria: ', total_por_par_areas)\n",
    "for areas_par in list(set(itertools.combinations(tcu.AREA.unique().tolist(), 2))):\n",
    "    #recupero os votos das duas diferentes áreas\n",
    "    precedentes_areas = [tcu[tcu.AREA == area].VOTO.tolist() for area in areas_par]\n",
    "    # gero um produto cartesiano entre os votos das diferentes áreas\n",
    "    pares = list(itertools.product(*precedentes_areas))[:total_por_par_areas]\n",
    "    noise = np.random.normal(mu, sigma, len(pares))\n",
    "    scores = [0.5]*len(pares)+noise\n",
    "    for i, par in enumerate(pares):\n",
    "       tcu_sts_data.append([par[0], par[1], scores[i], 0])\n",
    "print('Total de pares até o momento: ', len(tcu_sts_data))"
   ]
  },
  {
   "cell_type": "code",
   "execution_count": 177,
   "metadata": {
    "tags": []
   },
   "outputs": [],
   "source": [
    "pares_temas = []\n",
    "for group_name, area_group in tcu.groupby('AREA'):\n",
    "    for tema_name, tema_group in area_group.groupby('TEMA'):\n",
    "        #Se pra um TEMA tenho mais que um subtema então a similaridade entre subtemas não é tão grande\n",
    "        if len(tema_group.SUBTEMA.unique()) > 1:\n",
    "            for subtemas_pares in list(set(itertools.combinations(tema_group.SUBTEMA.unique(), 2))):\n",
    "                precedentes_subtemas = [tema_group[tema_group.SUBTEMA == subtema].VOTO.tolist() \n",
    "                                        for subtema in subtemas_pares]\n",
    "                pares = list(itertools.product(*precedentes_subtemas))\n",
    "                noise = np.random.normal(mu, sigma, len(pares))\n",
    "                scores = [3]*len(pares)+noise\n",
    "                for i, par in enumerate(pares):\n",
    "                    pares_temas.append([par[0], par[1], scores[i], 3])\n"
   ]
  },
  {
   "cell_type": "code",
   "execution_count": 178,
   "metadata": {
    "tags": []
   },
   "outputs": [
    {
     "output_type": "stream",
     "name": "stdout",
     "text": [
      "Total de pares até o momento 5986\n"
     ]
    }
   ],
   "source": [
    "samples_pares_temas = random.sample(pares_temas, precedentes_mesma_jurisprudencia)\n",
    "\n",
    "tcu_sts_data = tcu_sts_data + samples_pares_temas\n",
    "print('Total de pares até o momento', len(tcu_sts_data))"
   ]
  },
  {
   "cell_type": "code",
   "execution_count": 179,
   "metadata": {},
   "outputs": [],
   "source": [
    "tcu_sts_df = pd.DataFrame(tcu_sts_data, columns=['sentence_A','sentence_B','score','range'])\n",
    "tcu_sts_df = tcu_sts_df.dropna()"
   ]
  },
  {
   "cell_type": "code",
   "execution_count": 180,
   "metadata": {},
   "outputs": [],
   "source": [
    "train, test = train_test_split(tcu_sts_df, \n",
    "                            test_size=0.3, \n",
    "                            stratify=tcu_sts_df.range,\n",
    "                            shuffle=True,\n",
    "                            random_state=42)\n",
    "test, valid = train_test_split(test, \n",
    "                            test_size=0.3, \n",
    "                            stratify=test.range,\n",
    "                            shuffle=True,\n",
    "                            random_state=42)"
   ]
  },
  {
   "cell_type": "code",
   "execution_count": 181,
   "metadata": {},
   "outputs": [],
   "source": [
    "tcu_sts_df.loc[train.index.values,'SPLIT'] = 'TRAIN'\n",
    "tcu_sts_df.loc[test.index.values,'SPLIT'] = 'TEST'\n",
    "tcu_sts_df.loc[valid.index.values,'SPLIT'] = 'VALID'"
   ]
  },
  {
   "cell_type": "code",
   "execution_count": 182,
   "metadata": {},
   "outputs": [
    {
     "output_type": "stream",
     "name": "stdout",
     "text": [
      "                                             sentence_A  \\\n0      \\n                      TRIBUNAL DE CONTAS DA...   \n1      \\n                      TRIBUNAL DE CONTAS DA...   \n2      \\n                      TRIBUNAL DE CONTAS DA...   \n3      \\n                      TRIBUNAL DE CONTAS DA...   \n4      \\n                      TRIBUNAL DE CONTAS DA...   \n...                                                 ...   \n5978  A Cooperativa de Serviços Múltiplos - COOPERSE...   \n5979  Adoto como parte integrante deste Relatório a ...   \n5980  Cuidam os autos de representação, com pedido c...   \n5982  Tratam os autos de denúncia sobre possíveis ir...   \n5984  Adoto como relatório, com os ajustes pertinent...   \n\n                                             sentence_B     score  range  \\\n0      \\n                      TRIBUNAL DE CONTAS DA...  4.330898      4   \n1      \\n                      TRIBUNAL DE CONTAS DA...  4.659663      4   \n2      \\n                      TRIBUNAL DE CONTAS DA...  4.736125      4   \n3     Para verificar as assinaturas, acesse www.tcu....  4.541347      4   \n4      \\n                      TRIBUNAL DE CONTAS DA...  4.297661      4   \n...                                                 ...       ...    ...   \n5978  Cuida-se do relatório de Auditoria de Natureza...  3.093342      3   \n5979  Este Tribunal de Contas da União, por meio do ...  2.932645      3   \n5980  Trata-se do relatório de levantamento de audit...  3.021733      3   \n5982  Adoto como relatório a instrução técnica promo...  2.950228      3   \n5984  Tratam os autos de representação interposta pe...  3.147660      3   \n\n      SPLIT  \n0      TEST  \n1     TRAIN  \n2     TRAIN  \n3     TRAIN  \n4     TRAIN  \n...     ...  \n5978  TRAIN  \n5979  TRAIN  \n5980  VALID  \n5982  VALID  \n5984  TRAIN  \n\n[4852 rows x 5 columns]\n"
     ]
    }
   ],
   "source": [
    "print(tcu_sts_df)\n",
    "tcu_sts_df.to_csv('../datasets/tcu_sts.csv', index=False)"
   ]
  }
 ]
}