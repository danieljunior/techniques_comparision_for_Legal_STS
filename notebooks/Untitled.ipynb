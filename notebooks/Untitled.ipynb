{
 "cells": [
  {
   "cell_type": "code",
   "execution_count": 1,
   "id": "growing-plain",
   "metadata": {},
   "outputs": [],
   "source": [
    "import os, inspect, sys\n",
    "currentdir = os.path.dirname(os.path.abspath(inspect.getfile(inspect.currentframe())))\n",
    "parentdir = os.path.dirname(currentdir)\n",
    "sys.path.insert(0,parentdir)"
   ]
  },
  {
   "cell_type": "code",
   "execution_count": 18,
   "id": "prepared-leather",
   "metadata": {},
   "outputs": [
    {
     "data": {
      "text/html": [
       "<div>\n",
       "<style scoped>\n",
       "    .dataframe tbody tr th:only-of-type {\n",
       "        vertical-align: middle;\n",
       "    }\n",
       "\n",
       "    .dataframe tbody tr th {\n",
       "        vertical-align: top;\n",
       "    }\n",
       "\n",
       "    .dataframe thead th {\n",
       "        text-align: right;\n",
       "    }\n",
       "</style>\n",
       "<table border=\"1\" class=\"dataframe\">\n",
       "  <thead>\n",
       "    <tr style=\"text-align: right;\">\n",
       "      <th></th>\n",
       "      <th>jurisprudencia_index</th>\n",
       "      <th>tema</th>\n",
       "      <th>processo</th>\n",
       "      <th>relator</th>\n",
       "      <th>orgao</th>\n",
       "      <th>data_julgamento</th>\n",
       "      <th>data_publicacao</th>\n",
       "      <th>ementa</th>\n",
       "    </tr>\n",
       "  </thead>\n",
       "  <tbody>\n",
       "    <tr>\n",
       "      <th>0</th>\n",
       "      <td>0</td>\n",
       "      <td>1) A falta de defesa técnica por advogado no p...</td>\n",
       "      <td>Processo\\nAgRg no AREsp 331607 / SP\\nAGRAVO RE...</td>\n",
       "      <td>Relator(a)\\nMinistro HERMAN BENJAMIN (1132)</td>\n",
       "      <td>Órgão Julgador\\nT2 - SEGUNDA TURMA</td>\n",
       "      <td>Data do Julgamento\\n15/08/2013</td>\n",
       "      <td>Data da Publicação/Fonte\\nDJe 16/09/2013</td>\n",
       "      <td>Ementa\\nPROCESSUAL CIVIL. AGRAVO REGIMENTAL. A...</td>\n",
       "    </tr>\n",
       "    <tr>\n",
       "      <th>1</th>\n",
       "      <td>0</td>\n",
       "      <td>1) A falta de defesa técnica por advogado no p...</td>\n",
       "      <td>Processo\\nRMS 31995 / RS\\nRECURSO ORDINÁRIO EM...</td>\n",
       "      <td>Relator(a)\\nMinistro SÉRGIO KUKINA (1155)</td>\n",
       "      <td>Órgão Julgador\\nT1 - PRIMEIRA TURMA</td>\n",
       "      <td>Data do Julgamento\\n15/08/2013</td>\n",
       "      <td>Data da Publicação/Fonte\\nDJe 26/08/2013</td>\n",
       "      <td>Ementa\\nRECURSO ORDINÁRIO EM MANDADO DE SEGURA...</td>\n",
       "    </tr>\n",
       "    <tr>\n",
       "      <th>2</th>\n",
       "      <td>0</td>\n",
       "      <td>1) A falta de defesa técnica por advogado no p...</td>\n",
       "      <td>Processo\\nRMS 32169 / RN\\nRECURSO ORDINÁRIO EM...</td>\n",
       "      <td>Relator(a)\\nMinistro HUMBERTO MARTINS (1130)</td>\n",
       "      <td>Órgão Julgador\\nT2 - SEGUNDA TURMA</td>\n",
       "      <td>Data do Julgamento\\n02/05/2013</td>\n",
       "      <td>Data da Publicação/Fonte\\nDJe 17/06/2013</td>\n",
       "      <td>Ementa\\nPROCESSUAL CIVIL E ADMINISTRATIVO. MAN...</td>\n",
       "    </tr>\n",
       "    <tr>\n",
       "      <th>3</th>\n",
       "      <td>0</td>\n",
       "      <td>1) A falta de defesa técnica por advogado no p...</td>\n",
       "      <td>Processo\\nAgRg no REsp 1256653 / SP\\nAGRAVO RE...</td>\n",
       "      <td>Relator(a)\\nMinistro BENEDITO GONÇALVES (1142)</td>\n",
       "      <td>Órgão Julgador\\nT1 - PRIMEIRA TURMA</td>\n",
       "      <td>Data do Julgamento\\n28/08/2012</td>\n",
       "      <td>Data da Publicação/Fonte\\nDJe 05/09/2012</td>\n",
       "      <td>Ementa\\nPROCESSUAL CIVIL E ADMINISTRATIVO. AGR...</td>\n",
       "    </tr>\n",
       "    <tr>\n",
       "      <th>4</th>\n",
       "      <td>0</td>\n",
       "      <td>1) A falta de defesa técnica por advogado no p...</td>\n",
       "      <td>Processo\\nMS 15313 / DF\\nMANDADO DE SEGURANÇA\\...</td>\n",
       "      <td>Relator(a)\\nMinistro MAURO CAMPBELL MARQUES (1...</td>\n",
       "      <td>Órgão Julgador\\nS1 - PRIMEIRA SEÇÃO</td>\n",
       "      <td>Data do Julgamento\\n09/11/2011</td>\n",
       "      <td>Data da Publicação/Fonte\\nDJe 18/11/2011</td>\n",
       "      <td>Ementa\\nADMINISTRATIVO. MANDADO DE SEGURANÇA. ...</td>\n",
       "    </tr>\n",
       "    <tr>\n",
       "      <th>...</th>\n",
       "      <td>...</td>\n",
       "      <td>...</td>\n",
       "      <td>...</td>\n",
       "      <td>...</td>\n",
       "      <td>...</td>\n",
       "      <td>...</td>\n",
       "      <td>...</td>\n",
       "      <td>...</td>\n",
       "    </tr>\n",
       "    <tr>\n",
       "      <th>1049</th>\n",
       "      <td>234</td>\n",
       "      <td>9) Os prazos prescricionais previstos no art. ...</td>\n",
       "      <td>Processo\\nMS 15271 / DF\\nMANDADO DE SEGURANÇA\\...</td>\n",
       "      <td>Relator(a)\\nMinistro GURGEL DE FARIA (1160)</td>\n",
       "      <td>Órgão Julgador\\nS1 - PRIMEIRA SEÇÃO</td>\n",
       "      <td>Data do Julgamento\\n13/05/2020</td>\n",
       "      <td>Data da Publicação/Fonte\\nDJe 29/05/2020</td>\n",
       "      <td>Ementa\\nADMINISTRATIVO. SERVIDOR PÚBLICO. PROC...</td>\n",
       "    </tr>\n",
       "    <tr>\n",
       "      <th>1050</th>\n",
       "      <td>234</td>\n",
       "      <td>9) Os prazos prescricionais previstos no art. ...</td>\n",
       "      <td>Processo\\nMS 17807 / DF\\nMANDADO DE SEGURANÇA\\...</td>\n",
       "      <td>Relator(a)\\nMinistra REGINA HELENA COSTA (1157)</td>\n",
       "      <td>Órgão Julgador\\nS1 - PRIMEIRA SEÇÃO</td>\n",
       "      <td>Data do Julgamento\\n11/12/2019</td>\n",
       "      <td>Data da Publicação/Fonte\\nDJe 13/12/2019</td>\n",
       "      <td>Ementa\\nDIREITO ADMINISTRATIVO. MANDADO DE SEG...</td>\n",
       "    </tr>\n",
       "    <tr>\n",
       "      <th>1051</th>\n",
       "      <td>234</td>\n",
       "      <td>9) Os prazos prescricionais previstos no art. ...</td>\n",
       "      <td>Processo\\nMS 23464 / DF\\nMANDADO DE SEGURANÇA\\...</td>\n",
       "      <td>Relator(a)\\nMinistro MAURO CAMPBELL MARQUES (1...</td>\n",
       "      <td>Órgão Julgador\\nS1 - PRIMEIRA SEÇÃO</td>\n",
       "      <td>Data do Julgamento\\n11/12/2019</td>\n",
       "      <td>Data da Publicação/Fonte\\nDJe 13/12/2019</td>\n",
       "      <td>Ementa\\nPROCESSUAL CIVIL. ADMINISTRATIVO. MAND...</td>\n",
       "    </tr>\n",
       "    <tr>\n",
       "      <th>1052</th>\n",
       "      <td>234</td>\n",
       "      <td>9) Os prazos prescricionais previstos no art. ...</td>\n",
       "      <td>Processo\\nMS 22617 / DF\\nMANDADO DE SEGURANÇA\\...</td>\n",
       "      <td>Relator(a)\\nMinistro NAPOLEÃO NUNES MAIA FILHO...</td>\n",
       "      <td>Órgão Julgador\\nS1 - PRIMEIRA SEÇÃO</td>\n",
       "      <td>Data do Julgamento\\n27/11/2019</td>\n",
       "      <td>Data da Publicação/Fonte\\nDJe 03/12/2019</td>\n",
       "      <td>Ementa\\nMANDADO DE SEGURANÇA. PROCESSO ADMINIS...</td>\n",
       "    </tr>\n",
       "    <tr>\n",
       "      <th>1053</th>\n",
       "      <td>235</td>\n",
       "      <td>10) A ausência de termo de compromisso de memb...</td>\n",
       "      <td>Processo\\nEDcl no MS 12805 / DF\\nEMBARGOS DE D...</td>\n",
       "      <td>Relator(a)\\nMinistro ROGERIO SCHIETTI CRUZ (1158)</td>\n",
       "      <td>Órgão Julgador\\nS3 - TERCEIRA SEÇÃO</td>\n",
       "      <td>Data do Julgamento\\n28/05/2014</td>\n",
       "      <td>Data da Publicação/Fonte\\nDJe 03/06/2014</td>\n",
       "      <td>Ementa\\nPROCESSUAL CIVIL. EMBARGOS DE DECLARAÇ...</td>\n",
       "    </tr>\n",
       "  </tbody>\n",
       "</table>\n",
       "<p>1054 rows × 8 columns</p>\n",
       "</div>"
      ],
      "text/plain": [
       "      jurisprudencia_index                                               tema  \\\n",
       "0                        0  1) A falta de defesa técnica por advogado no p...   \n",
       "1                        0  1) A falta de defesa técnica por advogado no p...   \n",
       "2                        0  1) A falta de defesa técnica por advogado no p...   \n",
       "3                        0  1) A falta de defesa técnica por advogado no p...   \n",
       "4                        0  1) A falta de defesa técnica por advogado no p...   \n",
       "...                    ...                                                ...   \n",
       "1049                   234  9) Os prazos prescricionais previstos no art. ...   \n",
       "1050                   234  9) Os prazos prescricionais previstos no art. ...   \n",
       "1051                   234  9) Os prazos prescricionais previstos no art. ...   \n",
       "1052                   234  9) Os prazos prescricionais previstos no art. ...   \n",
       "1053                   235  10) A ausência de termo de compromisso de memb...   \n",
       "\n",
       "                                               processo  \\\n",
       "0     Processo\\nAgRg no AREsp 331607 / SP\\nAGRAVO RE...   \n",
       "1     Processo\\nRMS 31995 / RS\\nRECURSO ORDINÁRIO EM...   \n",
       "2     Processo\\nRMS 32169 / RN\\nRECURSO ORDINÁRIO EM...   \n",
       "3     Processo\\nAgRg no REsp 1256653 / SP\\nAGRAVO RE...   \n",
       "4     Processo\\nMS 15313 / DF\\nMANDADO DE SEGURANÇA\\...   \n",
       "...                                                 ...   \n",
       "1049  Processo\\nMS 15271 / DF\\nMANDADO DE SEGURANÇA\\...   \n",
       "1050  Processo\\nMS 17807 / DF\\nMANDADO DE SEGURANÇA\\...   \n",
       "1051  Processo\\nMS 23464 / DF\\nMANDADO DE SEGURANÇA\\...   \n",
       "1052  Processo\\nMS 22617 / DF\\nMANDADO DE SEGURANÇA\\...   \n",
       "1053  Processo\\nEDcl no MS 12805 / DF\\nEMBARGOS DE D...   \n",
       "\n",
       "                                                relator  \\\n",
       "0           Relator(a)\\nMinistro HERMAN BENJAMIN (1132)   \n",
       "1             Relator(a)\\nMinistro SÉRGIO KUKINA (1155)   \n",
       "2          Relator(a)\\nMinistro HUMBERTO MARTINS (1130)   \n",
       "3        Relator(a)\\nMinistro BENEDITO GONÇALVES (1142)   \n",
       "4     Relator(a)\\nMinistro MAURO CAMPBELL MARQUES (1...   \n",
       "...                                                 ...   \n",
       "1049        Relator(a)\\nMinistro GURGEL DE FARIA (1160)   \n",
       "1050    Relator(a)\\nMinistra REGINA HELENA COSTA (1157)   \n",
       "1051  Relator(a)\\nMinistro MAURO CAMPBELL MARQUES (1...   \n",
       "1052  Relator(a)\\nMinistro NAPOLEÃO NUNES MAIA FILHO...   \n",
       "1053  Relator(a)\\nMinistro ROGERIO SCHIETTI CRUZ (1158)   \n",
       "\n",
       "                                    orgao                 data_julgamento  \\\n",
       "0      Órgão Julgador\\nT2 - SEGUNDA TURMA  Data do Julgamento\\n15/08/2013   \n",
       "1     Órgão Julgador\\nT1 - PRIMEIRA TURMA  Data do Julgamento\\n15/08/2013   \n",
       "2      Órgão Julgador\\nT2 - SEGUNDA TURMA  Data do Julgamento\\n02/05/2013   \n",
       "3     Órgão Julgador\\nT1 - PRIMEIRA TURMA  Data do Julgamento\\n28/08/2012   \n",
       "4     Órgão Julgador\\nS1 - PRIMEIRA SEÇÃO  Data do Julgamento\\n09/11/2011   \n",
       "...                                   ...                             ...   \n",
       "1049  Órgão Julgador\\nS1 - PRIMEIRA SEÇÃO  Data do Julgamento\\n13/05/2020   \n",
       "1050  Órgão Julgador\\nS1 - PRIMEIRA SEÇÃO  Data do Julgamento\\n11/12/2019   \n",
       "1051  Órgão Julgador\\nS1 - PRIMEIRA SEÇÃO  Data do Julgamento\\n11/12/2019   \n",
       "1052  Órgão Julgador\\nS1 - PRIMEIRA SEÇÃO  Data do Julgamento\\n27/11/2019   \n",
       "1053  Órgão Julgador\\nS3 - TERCEIRA SEÇÃO  Data do Julgamento\\n28/05/2014   \n",
       "\n",
       "                               data_publicacao  \\\n",
       "0     Data da Publicação/Fonte\\nDJe 16/09/2013   \n",
       "1     Data da Publicação/Fonte\\nDJe 26/08/2013   \n",
       "2     Data da Publicação/Fonte\\nDJe 17/06/2013   \n",
       "3     Data da Publicação/Fonte\\nDJe 05/09/2012   \n",
       "4     Data da Publicação/Fonte\\nDJe 18/11/2011   \n",
       "...                                        ...   \n",
       "1049  Data da Publicação/Fonte\\nDJe 29/05/2020   \n",
       "1050  Data da Publicação/Fonte\\nDJe 13/12/2019   \n",
       "1051  Data da Publicação/Fonte\\nDJe 13/12/2019   \n",
       "1052  Data da Publicação/Fonte\\nDJe 03/12/2019   \n",
       "1053  Data da Publicação/Fonte\\nDJe 03/06/2014   \n",
       "\n",
       "                                                 ementa  \n",
       "0     Ementa\\nPROCESSUAL CIVIL. AGRAVO REGIMENTAL. A...  \n",
       "1     Ementa\\nRECURSO ORDINÁRIO EM MANDADO DE SEGURA...  \n",
       "2     Ementa\\nPROCESSUAL CIVIL E ADMINISTRATIVO. MAN...  \n",
       "3     Ementa\\nPROCESSUAL CIVIL E ADMINISTRATIVO. AGR...  \n",
       "4     Ementa\\nADMINISTRATIVO. MANDADO DE SEGURANÇA. ...  \n",
       "...                                                 ...  \n",
       "1049  Ementa\\nADMINISTRATIVO. SERVIDOR PÚBLICO. PROC...  \n",
       "1050  Ementa\\nDIREITO ADMINISTRATIVO. MANDADO DE SEG...  \n",
       "1051  Ementa\\nPROCESSUAL CIVIL. ADMINISTRATIVO. MAND...  \n",
       "1052  Ementa\\nMANDADO DE SEGURANÇA. PROCESSO ADMINIS...  \n",
       "1053  Ementa\\nPROCESSUAL CIVIL. EMBARGOS DE DECLARAÇ...  \n",
       "\n",
       "[1054 rows x 8 columns]"
      ]
     },
     "execution_count": 18,
     "metadata": {},
     "output_type": "execute_result"
    }
   ],
   "source": [
    "import pandas as pd\n",
    "\n",
    "data = pd.read_csv('../datasets/jurisprudencias_stj.csv', index_col=0)\n",
    "data"
   ]
  },
  {
   "cell_type": "code",
   "execution_count": 24,
   "id": "cellular-renewal",
   "metadata": {},
   "outputs": [],
   "source": [
    "v = data[['jurisprudencia_index']]\n",
    "custom_data = data[v.replace(v.apply(pd.Series.value_counts)).gt(2).all(1)]"
   ]
  },
  {
   "cell_type": "code",
   "execution_count": 47,
   "id": "extraordinary-couple",
   "metadata": {},
   "outputs": [
    {
     "name": "stdout",
     "output_type": "stream",
     "text": [
      "5.0\n",
      "5.157068062827225\n"
     ]
    }
   ],
   "source": [
    "import numpy as np\n",
    "\n",
    "group_count = []\n",
    "grouped_df = custom_data.groupby('jurisprudencia_index')\n",
    "for key, item in grouped_df:\n",
    "    jurisprudencia_group = grouped_df.get_group(key)\n",
    "    group_count.append(len(jurisprudencia_group))\n",
    "#     print(jurisprudencia_group, \"\\n\\n\")\n",
    "print(np.median(group_count))\n",
    "print(np.mean(group_count))"
   ]
  },
  {
   "cell_type": "code",
   "execution_count": 38,
   "id": "conceptual-korea",
   "metadata": {},
   "outputs": [],
   "source": [
    "from sklearn.model_selection import train_test_split\n",
    "\n",
    "train, test = train_test_split(custom_data, test_size=0.2, stratify=custom_data.jurisprudencia_index, random_state=42)"
   ]
  },
  {
   "cell_type": "code",
   "execution_count": 35,
   "id": "maritime-distance",
   "metadata": {},
   "outputs": [
    {
     "data": {
      "text/plain": [
       "<matplotlib.axes._subplots.AxesSubplot at 0x7f5e955b8710>"
      ]
     },
     "execution_count": 35,
     "metadata": {},
     "output_type": "execute_result"
    },
    {
     "data": {
      "image/png": "[encoded data removed]",
      "text/plain": [
       "<Figure size 432x288 with 1 Axes>"
      ]
     },
     "metadata": {
      "needs_background": "light"
     },
     "output_type": "display_data"
    }
   ],
   "source": [
    "data.jurisprudencia_index.plot.hist(bins=200, alpha=0.5)"
   ]
  },
  {
   "cell_type": "code",
   "execution_count": 40,
   "id": "swiss-feeding",
   "metadata": {},
   "outputs": [
    {
     "data": {
      "text/plain": [
       "<matplotlib.axes._subplots.AxesSubplot at 0x7f5e95272b90>"
      ]
     },
     "execution_count": 40,
     "metadata": {},
     "output_type": "execute_result"
    },
    {
     "data": {
      "image/png": "[encoded data removed]",
      "text/plain": [
       "<Figure size 432x288 with 1 Axes>"
      ]
     },
     "metadata": {
      "needs_background": "light"
     },
     "output_type": "display_data"
    }
   ],
   "source": [
    "train.jurisprudencia_index.plot.hist(bins=200, alpha=0.5)"
   ]
  }
 ],
 "metadata": {
  "kernelspec": {
   "display_name": "Python 3",
   "language": "python",
   "name": "python3"
  },
  "language_info": {
   "codemirror_mode": {
    "name": "ipython",
    "version": 3
   },
   "file_extension": ".py",
   "mimetype": "text/x-python",
   "name": "python",
   "nbconvert_exporter": "python",
   "pygments_lexer": "ipython3",
   "version": "3.7.4"
  }
 },
 "nbformat": 4,
 "nbformat_minor": 5
}
