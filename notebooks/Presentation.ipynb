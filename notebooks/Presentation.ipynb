{
 "cells": [
  {
   "cell_type": "markdown",
   "id": "median-girlfriend",
   "metadata": {},
   "source": [
    "<div style=\"text-align: center;\">\n",
    "    <h1>Textual <strike>Semantic</strike> Similarity Analysis <br/>between Embeddings Techniques <br/> using Brazilian Legal Data</h1>\n",
    "<div>"
   ]
  },
  {
   "cell_type": "markdown",
   "id": "initial-pantyhose",
   "metadata": {},
   "source": [
    "# Introdução\n",
    "\n",
    "No contexto Legal, a recuperação de decisões anteriores sobre um assunto de interesse é utilizada como precedente e serve como argumentação e como base de decisão sobre uma nova peça jurídica do mesmo assunto.\n",
    "Devido ao grande número de registros jurídicos, o uso de técnicas computacionais se fazem indispensáveis para a varredura de toda uma base de dados de modo a retornar itens de uma pesquisa em tempo satisfatório.\n",
    "\n",
    "A busca baseada em palavras chaves é muito utilizada na área de Recuperação da Informação. Entre as técnicas utilizadas na busca por palavras chaves, o <i>Bag of Words</i> e o <i>TF-IDF</i> são as comuns. Essas técnicas geram uma abstração onde o texto tem sua forma simbólica representada numericamente de forma a tornar possível a comparação e cálculo de similaridade com diferentes textos.\n",
    "\n",
    "Outras técnicas de representações textuais que geram as representações codificando também a semântica envolvida surgiram para diferentes níveis de segmentação textual, como palavras, parágrafos ou textos completos. Com isso, um mesmo texto pode ser representado numericamente de formas diferentes.\n",
    "\n",
    "# Objetivo\n",
    "O objetivo deste estudo é analisar as convergências e divergências entre representações textuais geradas por diferentes técnicas de embeddings. Para isso, será analisado quais documentos são recuperados por cada técnica dada um documento de consulta. Feito isso, será realizada uma comparação entre as recuperações entre diferentes representações para uma mesma consulta.\n",
    "\n",
    "# Dados\n",
    "Os dados utilizados serão textos de acórdãos do STJ e votos do TCU. Os dados foram recuperados por uma rotina de raspagem de dados dos sites dos respectivos órgãos. A particularidade desses dados consiste em serem <b>precedentes de jurisprudências</b> usadas pelos órgãos. Jurisprudências são entendimentos adotados por órgãos jurídicos que orientam qual deve ser a decisão para um determinado assunto. Esses entendimentos são formulados a partir da análise de decisões anteriores sobre o mesmo assunto, e tem como objetivo uniformizar as decisões e dar celeridade aos processos de assuntos recorrentes.\n",
    "\n",
    "O total dos dados obtidos com o procedimento de raspagem é o seguinte:"
   ]
  },
  {
   "cell_type": "code",
   "execution_count": 1,
   "id": "effective-geology",
   "metadata": {
    "jupyter": {
     "source_hidden": true
    }
   },
   "outputs": [],
   "source": [
    "import pandas as pd\n",
    "\n",
    "stj_data = pd.read_csv(\"../datasets/jurisprudencias_stj_clean.csv\")\n",
    "tcu_data = pd.read_csv(\"../datasets/jurisprudencias_tcu.csv\", index_col=0)"
   ]
  },
  {
   "cell_type": "code",
   "execution_count": 2,
   "id": "occasional-arena",
   "metadata": {
    "jupyter": {
     "source_hidden": true
    }
   },
   "outputs": [
    {
     "name": "stdout",
     "output_type": "stream",
     "text": [
      "STJ: \n",
      "4902 Acórdãos\n",
      "730 Jurisprudências\n",
      "7 Matérias\n",
      "68 Naturezas\n",
      "\n",
      "Histograma precedentes por Jurisprudência: \n"
     ]
    },
    {
     "data": {
      "text/plain": [
       "<matplotlib.axes._subplots.AxesSubplot at 0x7fec7cc54510>"
      ]
     },
     "execution_count": 2,
     "metadata": {},
     "output_type": "execute_result"
    },
    {
     "data": {
      "image/png": "[encoded data removed]",
      "text/plain": [
       "<Figure size 432x288 with 1 Axes>"
      ]
     },
     "metadata": {
      "needs_background": "light"
     },
     "output_type": "display_data"
    }
   ],
   "source": [
    "print(\"STJ: \")\n",
    "print(len(stj_data), \"Acórdãos\")\n",
    "print(len(stj_data.TEMA.unique()), \"Jurisprudências\")\n",
    "print(len(stj_data.MATERIA.unique()), \"Matérias\")\n",
    "print(len(stj_data.NATUREZA.unique()), \"Naturezas\\n\")\n",
    "print(\"Histograma precedentes por Jurisprudência: \")\n",
    "stj_data.TEMA.value_counts().hist()"
   ]
  },
  {
   "cell_type": "code",
   "execution_count": 3,
   "id": "concerned-fraction",
   "metadata": {
    "jupyter": {
     "source_hidden": true
    }
   },
   "outputs": [
    {
     "name": "stdout",
     "output_type": "stream",
     "text": [
      "TCU: \n",
      "441 Acórdãos\n",
      "44 Jurisprudências\n",
      "4 Áreas\n",
      "27 Temas\n",
      "38 Subtemas\n",
      "\n",
      "Histograma precedentes por Jurisprudência: \n"
     ]
    },
    {
     "data": {
      "text/plain": [
       "<matplotlib.axes._subplots.AxesSubplot at 0x7fec7c2b17d0>"
      ]
     },
     "execution_count": 3,
     "metadata": {},
     "output_type": "execute_result"
    },
    {
     "data": {
      "image/png": "[encoded data removed]",
      "text/plain": [
       "<Figure size 432x288 with 1 Axes>"
      ]
     },
     "metadata": {
      "needs_background": "light"
     },
     "output_type": "display_data"
    }
   ],
   "source": [
    "print(\"TCU: \")\n",
    "print(len(tcu_data), \"Acórdãos\")\n",
    "print(len(tcu_data.ENUNCIADO.unique()), \"Jurisprudências\")\n",
    "print(len(tcu_data.AREA.unique()), \"Áreas\")\n",
    "print(len(tcu_data.TEMA.unique()), \"Temas\")\n",
    "print(len(tcu_data.SUBTEMA.unique()), \"Subtemas\\n\")\n",
    "print(\"Histograma precedentes por Jurisprudência: \")\n",
    "tcu_data.ENUNCIADO.value_counts().hist()"
   ]
  },
  {
   "cell_type": "markdown",
   "id": "private-glory",
   "metadata": {},
   "source": [
    "# Embeddings similarities analysis\n",
    "\n",
    "Para este estudo foram escolhidas as seguintes técnicas:\n",
    "\n",
    "<table>\n",
    "    <thead>\n",
    "        <tr>\n",
    "            <th>Model</th>\n",
    "            <th>Setup</th>\n",
    "            <th>vector size</th>\n",
    "        </tr>\n",
    "    </thead>\n",
    "    <tbody>\n",
    "        <tr>\n",
    "            <td>TF-IDF</td>\n",
    "            <td></td>\n",
    "            <td></td>\n",
    "        </tr>\n",
    "        <tr>\n",
    "            <td>BM25</td>\n",
    "            <td></td>\n",
    "            <td></td>\n",
    "        </tr>\n",
    "        <tr>\n",
    "            <td>word2vec</td>\n",
    "            <td>mean</td>\n",
    "            <td>300</td>\n",
    "        </tr>\n",
    "        <tr>\n",
    "            <td>weighted word2vec</td>\n",
    "            <td>TFIDF weighted + mean</td>\n",
    "            <td>300</td>\n",
    "        </tr>\n",
    "        <tr>\n",
    "            <td>fasttext</td>\n",
    "            <td>mean</td>\n",
    "            <td>300</td>\n",
    "        </tr>\n",
    "        <tr>\n",
    "            <td>weighted fasttext</td>\n",
    "            <td>TFIDF weighted + mean</td>\n",
    "            <td>300</td>\n",
    "        </tr>\n",
    "        <tr>\n",
    "            <td>Sentence Transformer</td>\n",
    "            <td>Distill USE Multilingual</td>\n",
    "            <td>512</td>\n",
    "        </tr>\n",
    "        <tr>\n",
    "            <td>ELMo</td>\n",
    "            <td>token embeddings mean</td>\n",
    "            <td>1024</td>\n",
    "        </tr>\n",
    "        <tr>\n",
    "            <td>BERT</td>\n",
    "            <td>last 4 layers concat</td>\n",
    "            <td>3072</td>\n",
    "        </tr>\n",
    "        <tr>\n",
    "            <td>ITD BERT</td>\n",
    "            <td>LM finetunned on ITD dataset, last 4 layers concat</td>\n",
    "            <td>3072</td>\n",
    "        </tr>\n",
    "        <tr>\n",
    "            <td>Longformer</td>\n",
    "            <td>BERT based, last 4 layers concat</td>\n",
    "            <td>3072</td>\n",
    "        </tr>\n",
    "        <tr>\n",
    "            <td>ITD Longformer</td>\n",
    "            <td>ITD BERT based, last 4 layers concat</td>\n",
    "            <td>3072</td>\n",
    "        </tr>\n",
    "    </tbody>\n",
    "</table>"
   ]
  },
  {
   "cell_type": "markdown",
   "id": "seasonal-height",
   "metadata": {},
   "source": [
    "O experimento consistiu em:\n",
    "1) Gerar embedding para cada documento de cada conjunto de dados com cada uma das técnicas citadas\n",
    "2) Recuperar os 5 documentos mais similares de cada documento do conjunto de dados com o auxílio do indexador Annoy e calcular a distância de cossenos entre as representações, exceto no caso do BM25 que tem uma dinâmica própria.\n",
    "3) Salvar cada par de documentos similares de cada técnica em um arquivo CSV\n",
    "\n",
    "O objetivo a partir daí é verificar as interseções dos pares de documentos similares gerados pelas diferentes técnicas. Para auxiliar na análise vamos usar a visualização <b>UpSet plots¹</b>.\n",
    "\n",
    "A primeira análise será realizada a partir dos dados do TCU.\n",
    "\n",
    "<p style='font-size:10px'>¹ Alexander Lex, Nils Gehlenborg, Hendrik Strobelt, Romain Vuillemot, Hanspeter Pfister, UpSet: Visualization of Intersecting Sets, IEEE Transactions on Visualization and Computer Graphics (InfoVis ‘14), vol. 20, no. 12, pp. 1983–1992, 2014. doi: doi.org/10.1109/TVCG.2014.2346248</p>\n"
   ]
  },
  {
   "cell_type": "code",
   "execution_count": 4,
   "id": "fundamental-connectivity",
   "metadata": {
    "jupyter": {
     "source_hidden": true
    }
   },
   "outputs": [],
   "source": [
    "similarities = pd.read_csv(\"../results/tcu_similarities.csv\", index_col=0)\n",
    "models_dict = {}\n",
    "for model_name, model_pairs in similarities.groupby(\"MODEL_NAME\"):\n",
    "    pairs = []\n",
    "    for i, pair in model_pairs.iterrows():\n",
    "        pairs.append((pair[0], pair[1]))\n",
    "    models_dict[model_name] = set(pairs)"
   ]
  },
  {
   "cell_type": "code",
   "execution_count": 9,
   "id": "published-stuff",
   "metadata": {
    "jupyter": {
     "source_hidden": true
    }
   },
   "outputs": [
    {
     "data": {
      "image/png": "[encoded data removed]",
      "text/plain": [
       "<Figure size 408.125x448 with 4 Axes>"
      ]
     },
     "metadata": {
      "needs_background": "light"
     },
     "output_type": "display_data"
    },
    {
     "data": {
      "text/plain": [
       "<Figure size 432x288 with 0 Axes>"
      ]
     },
     "metadata": {},
     "output_type": "display_data"
    }
   ],
   "source": [
    "from matplotlib import pyplot\n",
    "from upsetplot import from_contents, plot\n",
    "\n",
    "example = from_contents(models_dict)\n",
    "plot(\n",
    "    example, show_percentages=True,\n",
    ")\n",
    "# orientation='vertical'\n",
    "pyplot.show()\n",
    "pyplot.savefig(\"../results/tcu_similarities.png\", bbox_inches=\"tight\")"
   ]
  },
  {
   "cell_type": "markdown",
   "id": "selective-relationship",
   "metadata": {},
   "source": [
    "# Scatter plot with DensMAP Visualization\n",
    "\n",
    "<b>DensMAP²</b> é uma técnica de redução de dimensionalidade para visualização de dados baseada no <b>UMAP³</b> que também se preocupa em criar espaços vetoriais reduzidos que respeitem de forma estimada a a densidade local das subpopulações dos dados a serem visualizados.\n",
    "\n",
    "\n",
    "<p style='font-size:10px'>² NARAYAN, Ashwin; BERGER, Bonnie; CHO, Hyunghoon. Density-preserving data visualization unveils dynamic patterns of single-cell transcriptomic variability. bioRxiv, 2020.<p>\n",
    "<p style='font-size:10px'>³ MCINNES, Leland; HEALY, John; MELVILLE, James. Umap: Uniform manifold approximation and projection for dimension reduction. arXiv preprint arXiv:1802.03426, 2018.<p>"
   ]
  },
  {
   "cell_type": "code",
   "execution_count": 10,
   "id": "strange-drive",
   "metadata": {
    "collapsed": true,
    "jupyter": {
     "outputs_hidden": true,
     "source_hidden": true
    }
   },
   "outputs": [
    {
     "name": "stderr",
     "output_type": "stream",
     "text": [
      "/opt/conda/lib/python3.7/site-packages/umap/spectral.py:256: UserWarning: WARNING: spectral initialisation failed! The eigenvector solver\n",
      "failed. This is likely due to too small an eigengap. Consider\n",
      "adding some noise or jitter to your data.\n",
      "\n",
      "Falling back to random initialisation!\n",
      "  \"WARNING: spectral initialisation failed! The eigenvector solver\\n\"\n",
      "/opt/conda/lib/python3.7/site-packages/umap/spectral.py:256: UserWarning: WARNING: spectral initialisation failed! The eigenvector solver\n",
      "failed. This is likely due to too small an eigengap. Consider\n",
      "adding some noise or jitter to your data.\n",
      "\n",
      "Falling back to random initialisation!\n",
      "  \"WARNING: spectral initialisation failed! The eigenvector solver\\n\"\n"
     ]
    }
   ],
   "source": [
    "import os\n",
    "\n",
    "import umap\n",
    "from annoy import AnnoyIndex\n",
    "\n",
    "vectors_size = {\n",
    "    \"bert.ann\": 3072,\n",
    "    \"elmo.ann\": 1024,\n",
    "    \"fasttext.ann\": 300,\n",
    "    \"weighted_fasttext.ann\": 300,\n",
    "    \"itd_bert.ann\": 3072,\n",
    "    \"longformer.ann\": 3072,\n",
    "    \"itd_longformer.ann\": 3072,\n",
    "    \"sentence_transformer.ann\": 512,\n",
    "}\n",
    "\n",
    "data = {}\n",
    "files = os.listdir(\"../results\")\n",
    "for file in files:\n",
    "    if file.endswith(\".ann\"):\n",
    "        size = vectors_size[file.split(\"/\")[-1]]\n",
    "        ann = AnnoyIndex(size, \"angular\")\n",
    "        ann.load(\"../results/\" + file)  # super fast, will just mmap the file\n",
    "        points = []\n",
    "        for i in range(ann.get_n_items()):\n",
    "            points.append(ann.get_item_vector(i))\n",
    "        points_embeddings = umap.UMAP(densmap=True, random_state=42).fit_transform(\n",
    "            points\n",
    "        )\n",
    "        data[file.split(\"/\")[-1]] = points_embeddings"
   ]
  },
  {
   "cell_type": "code",
   "execution_count": 11,
   "id": "scientific-diploma",
   "metadata": {
    "jupyter": {
     "source_hidden": true
    }
   },
   "outputs": [
    {
     "data": {
      "image/png": "[encoded data removed]",
      "text/plain": [
       "<Figure size 432x288 with 1 Axes>"
      ]
     },
     "metadata": {
      "needs_background": "light"
     },
     "output_type": "display_data"
    }
   ],
   "source": [
    "import matplotlib.pyplot as plt\n",
    "\n",
    "%matplotlib inline\n",
    "\n",
    "plt.scatter(data[\"bert.ann\"][:, 0], data[\"bert.ann\"][:, 1], label=\"bert\")\n",
    "plt.scatter(\n",
    "    data[\"longformer.ann\"][:, 0], data[\"longformer.ann\"][:, 1], label=\"longformer\"\n",
    ")\n",
    "plt.legend(loc=(1.04, 0))\n",
    "plt.show()"
   ]
  },
  {
   "cell_type": "code",
   "execution_count": 12,
   "id": "clean-vulnerability",
   "metadata": {
    "jupyter": {
     "source_hidden": true
    }
   },
   "outputs": [
    {
     "data": {
      "image/png": "[encoded data removed]",
      "text/plain": [
       "<Figure size 432x288 with 1 Axes>"
      ]
     },
     "metadata": {
      "needs_background": "light"
     },
     "output_type": "display_data"
    }
   ],
   "source": [
    "plt.scatter(data[\"bert.ann\"][:, 0], data[\"bert.ann\"][:, 1], label=\"bert\")\n",
    "plt.scatter(data[\"itd_bert.ann\"][:, 0], data[\"itd_bert.ann\"][:, 1], label=\"itd_bert\")\n",
    "plt.legend(loc=(1.04, 0))\n",
    "plt.show()"
   ]
  },
  {
   "cell_type": "code",
   "execution_count": 13,
   "id": "israeli-condition",
   "metadata": {
    "jupyter": {
     "source_hidden": true
    }
   },
   "outputs": [
    {
     "data": {
      "image/png": "[encoded data removed]",
      "text/plain": [
       "<Figure size 432x288 with 1 Axes>"
      ]
     },
     "metadata": {
      "needs_background": "light"
     },
     "output_type": "display_data"
    }
   ],
   "source": [
    "plt.scatter(data[\"bert.ann\"][:, 0], data[\"bert.ann\"][:, 1], label=\"bert\")\n",
    "plt.scatter(data[\"elmo.ann\"][:, 0], data[\"elmo.ann\"][:, 1], label=\"elmo\")\n",
    "plt.legend(loc=(1.04, 0))\n",
    "plt.show()"
   ]
  },
  {
   "cell_type": "code",
   "execution_count": 14,
   "id": "configured-container",
   "metadata": {
    "jupyter": {
     "source_hidden": true
    }
   },
   "outputs": [
    {
     "data": {
      "image/png": "[encoded data removed]",
      "text/plain": [
       "<Figure size 432x288 with 1 Axes>"
      ]
     },
     "metadata": {
      "needs_background": "light"
     },
     "output_type": "display_data"
    }
   ],
   "source": [
    "plt.scatter(data[\"bert.ann\"][:, 0], data[\"bert.ann\"][:, 1], label=\"bert\")\n",
    "plt.scatter(\n",
    "    data[\"sentence_transformer.ann\"][:, 0],\n",
    "    data[\"sentence_transformer.ann\"][:, 1],\n",
    "    label=\"sentence_transformer\",\n",
    ")\n",
    "plt.legend(loc=(1.04, 0))\n",
    "plt.show()"
   ]
  },
  {
   "cell_type": "code",
   "execution_count": 15,
   "id": "canadian-document",
   "metadata": {
    "jupyter": {
     "source_hidden": true
    }
   },
   "outputs": [
    {
     "data": {
      "image/png": "[encoded data removed]",
      "text/plain": [
       "<Figure size 432x288 with 1 Axes>"
      ]
     },
     "metadata": {
      "needs_background": "light"
     },
     "output_type": "display_data"
    }
   ],
   "source": [
    "plt.scatter(data[\"bert.ann\"][:, 0], data[\"bert.ann\"][:, 1], label=\"bert\")\n",
    "plt.scatter(data[\"fasttext.ann\"][:, 0], data[\"fasttext.ann\"][:, 1], label=\"fasttext\")\n",
    "plt.legend(loc=(1.04, 0))\n",
    "plt.show()"
   ]
  },
  {
   "cell_type": "markdown",
   "id": "reflected-arcade",
   "metadata": {},
   "source": [
    "# Semantic Textual Similarity Dataset\n",
    "\n",
    "A partir dos dados de jurisprudências de cada órgão foi gerado um conjunto de dados para a tarefa de STS. A premissa utilizada para a construção do conjunto de dados foi que acórdãos/votos de uma mesma jurisprudência guardam uma grande relação de similaridade. Ainda, metadados como matéria, natureza, ou tema dos textos de cada órgao também permitem inferir diferentes graus de similaridade entre textos distintos. Com isso, o conjunto de dados de STS gerado tem uma anotação fraca, pois os rótulos não foram produzidos por um anotador real, mas baseado em heurísticas provenientes dos metadados disponíveis."
   ]
  },
  {
   "cell_type": "code",
   "execution_count": 16,
   "id": "freelance-approach",
   "metadata": {
    "jupyter": {
     "source_hidden": true
    }
   },
   "outputs": [],
   "source": [
    "tcu_sts = pd.read_csv(\"../datasets/tcu_sts.csv\").drop_duplicates(\n",
    "    subset=[\"sentence_A\", \"sentence_B\"], keep=\"last\"\n",
    ")\n",
    "stj_sts = pd.read_csv(\"../datasets/stj_sts.csv\").drop_duplicates(\n",
    "    subset=[\"sentence_A\", \"sentence_B\"], keep=\"last\"\n",
    ")"
   ]
  },
  {
   "cell_type": "code",
   "execution_count": 17,
   "id": "accomplished-metabolism",
   "metadata": {
    "jupyter": {
     "source_hidden": true
    }
   },
   "outputs": [
    {
     "name": "stdout",
     "output_type": "stream",
     "text": [
      "Total de registros do TCU:  4651\n",
      "Total de registros do STJ:  41710\n"
     ]
    }
   ],
   "source": [
    "print(\"Total de registros do TCU: \", len(tcu_sts))\n",
    "print(\"Total de registros do STJ: \", len(stj_sts))"
   ]
  },
  {
   "cell_type": "markdown",
   "id": "sufficient-ordering",
   "metadata": {},
   "source": [
    "# How each embedding technique performs compared to STS dataset"
   ]
  },
  {
   "cell_type": "code",
   "execution_count": 18,
   "id": "twelve-heart",
   "metadata": {
    "jupyter": {
     "source_hidden": true
    }
   },
   "outputs": [],
   "source": [
    "import numpy as np\n",
    "\n",
    "SOURCE_INDEX = 0\n",
    "SIMILAR_INDEX = 1\n",
    "\n",
    "sts_similarities = {}\n",
    "\n",
    "for model, data in similarities.groupby(\"MODEL_NAME\"):\n",
    "    pairs_score = []\n",
    "    for i, row in data.iterrows():\n",
    "        sentence_A = tcu_data.iloc[row[SOURCE_INDEX]].VOTO\n",
    "        sentence_B = tcu_data.iloc[row[SIMILAR_INDEX]].VOTO\n",
    "        pair = tcu_sts[\n",
    "            ((tcu_sts.sentence_A == sentence_A) & (tcu_sts.sentence_B == sentence_B))\n",
    "            | ((tcu_sts.sentence_B == sentence_A) & (tcu_sts.sentence_A == sentence_B))\n",
    "        ]\n",
    "        if len(pair) > 0:\n",
    "            pairs_score.append(pair.iloc[0].score)\n",
    "        else:\n",
    "            pairs_score.append(0)\n",
    "\n",
    "    sts_similarities[model] = pairs_score\n",
    "\n",
    "scores_stats = []\n",
    "for model, scores in sts_similarities.items():\n",
    "    #     print(model)\n",
    "    #     print('Total de scores: ', len(scores))\n",
    "    similars = [x for x in sts_similarities[model] if x != 0]\n",
    "    non_similars = [x for x in sts_similarities[model] if x == 0]\n",
    "    #     print('Total pares com alguma similaridade: ', len(similars))\n",
    "    #     print('Média da Similaridade: ', np.mean(similars))\n",
    "    #     print('Total pares sem similaridade atestada: ', len(non_similars))\n",
    "    #     print('\\n')\n",
    "    scores_stats.append([model, len(similars), np.mean(similars)])"
   ]
  },
  {
   "cell_type": "code",
   "execution_count": 60,
   "id": "fourth-computer",
   "metadata": {
    "jupyter": {
     "source_hidden": true
    }
   },
   "outputs": [
    {
     "name": "stdout",
     "output_type": "stream",
     "text": [
      "Total de pares similares gerados por cada técnica:  2205\n",
      "\n",
      "\n"
     ]
    },
    {
     "data": {
      "image/png": "[encoded data removed]",
      "text/plain": [
       "<Figure size 432x288 with 2 Axes>"
      ]
     },
     "metadata": {
      "needs_background": "light"
     },
     "output_type": "display_data"
    },
    {
     "data": {
      "text/html": [
       "<div>\n",
       "<style scoped>\n",
       "    .dataframe tbody tr th:only-of-type {\n",
       "        vertical-align: middle;\n",
       "    }\n",
       "\n",
       "    .dataframe tbody tr th {\n",
       "        vertical-align: top;\n",
       "    }\n",
       "\n",
       "    .dataframe thead th {\n",
       "        text-align: right;\n",
       "    }\n",
       "</style>\n",
       "<table border=\"1\" class=\"dataframe\">\n",
       "  <thead>\n",
       "    <tr style=\"text-align: right;\">\n",
       "      <th></th>\n",
       "      <th>MODEL</th>\n",
       "      <th>SIMILAR_NUMBER</th>\n",
       "      <th>MEAN_SIMILARITY</th>\n",
       "    </tr>\n",
       "  </thead>\n",
       "  <tbody>\n",
       "    <tr>\n",
       "      <th>0</th>\n",
       "      <td>bert</td>\n",
       "      <td>1498</td>\n",
       "      <td>4.480178</td>\n",
       "    </tr>\n",
       "    <tr>\n",
       "      <th>1</th>\n",
       "      <td>elmo</td>\n",
       "      <td>1502</td>\n",
       "      <td>4.490205</td>\n",
       "    </tr>\n",
       "    <tr>\n",
       "      <th>2</th>\n",
       "      <td>fasttext</td>\n",
       "      <td>1498</td>\n",
       "      <td>4.480178</td>\n",
       "    </tr>\n",
       "    <tr>\n",
       "      <th>3</th>\n",
       "      <td>itd_bert</td>\n",
       "      <td>1498</td>\n",
       "      <td>4.480178</td>\n",
       "    </tr>\n",
       "    <tr>\n",
       "      <th>4</th>\n",
       "      <td>itd_longformer</td>\n",
       "      <td>1498</td>\n",
       "      <td>4.480178</td>\n",
       "    </tr>\n",
       "    <tr>\n",
       "      <th>5</th>\n",
       "      <td>longformer</td>\n",
       "      <td>1498</td>\n",
       "      <td>4.480178</td>\n",
       "    </tr>\n",
       "    <tr>\n",
       "      <th>6</th>\n",
       "      <td>sentence_transformer</td>\n",
       "      <td>1498</td>\n",
       "      <td>4.480178</td>\n",
       "    </tr>\n",
       "    <tr>\n",
       "      <th>7</th>\n",
       "      <td>weighted_fasttext</td>\n",
       "      <td>1498</td>\n",
       "      <td>4.480178</td>\n",
       "    </tr>\n",
       "  </tbody>\n",
       "</table>\n",
       "</div>"
      ],
      "text/plain": [
       "                  MODEL  SIMILAR_NUMBER  MEAN_SIMILARITY\n",
       "0                  bert            1498         4.480178\n",
       "1                  elmo            1502         4.490205\n",
       "2              fasttext            1498         4.480178\n",
       "3              itd_bert            1498         4.480178\n",
       "4        itd_longformer            1498         4.480178\n",
       "5            longformer            1498         4.480178\n",
       "6  sentence_transformer            1498         4.480178\n",
       "7     weighted_fasttext            1498         4.480178"
      ]
     },
     "execution_count": 60,
     "metadata": {},
     "output_type": "execute_result"
    }
   ],
   "source": [
    "print(\n",
    "    \"Total de pares similares gerados por cada técnica: \", len(sts_similarities[\"bert\"])\n",
    ")\n",
    "print(\"\\n\")\n",
    "df = pd.DataFrame(scores_stats, columns=[\"MODEL\", \"SIMILAR_NUMBER\", \"MEAN_SIMILARITY\"])\n",
    "fig = pyplot.figure()  # Create matplotlib figure\n",
    "\n",
    "ax = fig.add_subplot(111)  # Create matplotlib axes\n",
    "ax2 = ax.twinx()  # Create another axes that shares the same x-axis as ax.\n",
    "\n",
    "width = 0.4\n",
    "\n",
    "df.SIMILAR_NUMBER.plot(kind=\"bar\", color=\"red\", ax=ax, width=width, position=1)\n",
    "df.MEAN_SIMILARITY.plot(kind=\"bar\", ax=ax2, width=width, position=0)\n",
    "\n",
    "ax.set_ylabel(\"Similar pairs on STS dataset\")\n",
    "ax2.set_ylabel(\"Mean Similarity from STS dataset\")\n",
    "\n",
    "ax.set_xticklabels(df.MODEL)\n",
    "\n",
    "ax.legend([\"Similar pairs on STS dataset\"], loc=(1.1, 0.9))\n",
    "ax2.legend([\"Mean Similarity from STS dataset\"], loc=(1.1, 0.8))\n",
    "# fig.tight_layout()\n",
    "plt.show()\n",
    "df"
   ]
  },
  {
   "cell_type": "markdown",
   "id": "oriented-windows",
   "metadata": {},
   "source": [
    "# TODO\n",
    "\n",
    "- Calcular os mais de cada documento numa representação para documentos de outra representação (p.ex.: BERT -> Longformer) e analisar com o conjunto de similares calculados dentro de uma mesma representação.\n",
    "    - Verificar médias e variâncias\n",
    "\n",
    "\n",
    "- Calcular a distância de um mesmo documento D1 entre duas representações diferentes (D1' -> D1'')\n",
    "    - Recuperar o documento mais próximo do D1 em uma das representação (D2) e calcular a distância.\n",
    "    - O que é mais próximo: o mesmo documento em representações diferentes ou o mais próximo do documento em uma representação fixada?\n",
    "    - Verificar média das distâncias e mediana\n",
    "\n",
    "\n",
    "- Consigo verificar se os grupos de diferentes representações são compostos dos mesmos documentos?\n",
    "\n",
    "\n",
    "- Colorir os pontos em cada representação de acordo com a jurisprudência associada\n",
    "    - Os pontos agrupados são de uma mesma jurisprudência?\n",
    "\n",
    "\n",
    "- Existe alguma ferramenta que auxilie essa visualização de forma interativa?\n",
    "\n",
    "- Quantidade de tokens por documento segundo cada forma de tokenização\n",
    "\n",
    "- \n",
    "\n",
    "# Questões a serem respondidas\n",
    "\n",
    "- O tamanho do contexto importa? Longformer >> BERT?\n",
    "- Há uma grande diferença no cálculo de similaridade entre diferentes arquiteturas? BERT != ELMo\n",
    "- A Language Model base importa muito? BERT (BERTimbau) != Sentence Transformer (Distill USE Multilingual)\n",
    "- Como se diferem entre si as abordagens frequentistas, agrupamento de vetores e contextualizas (com trasformer ou não)\n",
    "- _Aline: \"Daniel, uma coisa que esqueci de perguntar ontem: quando o tamanho do seu documento é maior que a entrada do modelo (no caso dos transformers, em particular), o que você faz? Fiquei me perguntando se esses seriam os mais representativos do documento.\"_\n",
    "    - _Daniel: \"Aí isso depende do foco de um analista. Por exemplo, na maior parte desse documentos, o começo é um resumo de tudo que envolve o processo, do meio pro fim acaba sendo o julgamento em si. Numa visão mais ampla, o resumo é mais útil pra similaridade. Mas a similaridade num grão mais fino se valeria melhor do restante do documento. Seria como usar o começo dos textos fosse um filtro grosseiro, e o resto do documento um filtro bem específico.\"_"
   ]
  }
 ],
 "metadata": {
  "kernelspec": {
   "display_name": "Python 3",
   "language": "python",
   "name": "python3"
  },
  "language_info": {
   "codemirror_mode": {
    "name": "ipython",
    "version": 3
   },
   "file_extension": ".py",
   "mimetype": "text/x-python",
   "name": "python",
   "nbconvert_exporter": "python",
   "pygments_lexer": "ipython3",
   "version": "3.7.4"
  }
 },
 "nbformat": 4,
 "nbformat_minor": 5
}
